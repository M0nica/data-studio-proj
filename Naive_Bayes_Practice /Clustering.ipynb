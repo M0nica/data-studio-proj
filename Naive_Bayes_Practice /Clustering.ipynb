{
 "cells": [
  {
   "cell_type": "code",
   "execution_count": 60,
   "metadata": {
    "collapsed": false
   },
   "outputs": [],
   "source": [
    "import pandas as pd\n",
    "import matplotlib.pyplot as plt\n",
    "import random\n",
    "%matplotlib inline\n",
    "\n",
    "def make_fake_data_point():\n",
    "    seed = random.randint(0,10)\n",
    "    if seed < 2:\n",
    "        return random.normalvariate(170, 40)\n",
    "    if seed < 4:\n",
    "        return random.normalvariate(80, 20)\n",
    "    if seed < 5:\n",
    "        return random.normalvariate(120, 10)\n",
    "    if seed < 8:\n",
    "        return random.normalvariate(320, 15)\n",
    "    if seed < 9:\n",
    "        return random.normalvariate(210, 10)\n",
    "    return random.normalvariate(30, 5)\n",
    "\n",
    "def create_fake_data(number_of_points):\n",
    "    return pd.DataFrame([int(make_fake_data_point()) for i in range(number_of_points)], columns=[\"weight\"])"
   ]
  },
  {
   "cell_type": "code",
   "execution_count": 61,
   "metadata": {
    "collapsed": false
   },
   "outputs": [
    {
     "data": {
      "text/html": [
       "<div>\n",
       "<table border=\"1\" class=\"dataframe\">\n",
       "  <thead>\n",
       "    <tr style=\"text-align: right;\">\n",
       "      <th></th>\n",
       "      <th>weight</th>\n",
       "    </tr>\n",
       "  </thead>\n",
       "  <tbody>\n",
       "    <tr>\n",
       "      <th>0</th>\n",
       "      <td>281</td>\n",
       "    </tr>\n",
       "    <tr>\n",
       "      <th>1</th>\n",
       "      <td>105</td>\n",
       "    </tr>\n",
       "    <tr>\n",
       "      <th>2</th>\n",
       "      <td>255</td>\n",
       "    </tr>\n",
       "    <tr>\n",
       "      <th>3</th>\n",
       "      <td>155</td>\n",
       "    </tr>\n",
       "    <tr>\n",
       "      <th>4</th>\n",
       "      <td>215</td>\n",
       "    </tr>\n",
       "  </tbody>\n",
       "</table>\n",
       "</div>"
      ],
      "text/plain": [
       "   weight\n",
       "0     281\n",
       "1     105\n",
       "2     255\n",
       "3     155\n",
       "4     215"
      ]
     },
     "execution_count": 61,
     "metadata": {},
     "output_type": "execute_result"
    }
   ],
   "source": [
    "df = create_fake_data(1000)\n",
    "df.head()"
   ]
  },
  {
   "cell_type": "code",
   "execution_count": 62,
   "metadata": {
    "collapsed": false
   },
   "outputs": [
    {
     "data": {
      "text/plain": [
       "<matplotlib.axes._subplots.AxesSubplot at 0x10d6b8828>"
      ]
     },
     "execution_count": 62,
     "metadata": {},
     "output_type": "execute_result"
    },
    {
     "data": {
      "image/png": "[encoded data removed]",
      "text/plain": [
       "<matplotlib.figure.Figure at 0x10d4839b0>"
      ]
     },
     "metadata": {},
     "output_type": "display_data"
    }
   ],
   "source": [
    "df['weight'].hist(bins=50)"
   ]
  },
  {
   "cell_type": "markdown",
   "metadata": {
    "collapsed": true
   },
   "source": [
    "# K-Means\n",
    "one among many clustering algorithms"
   ]
  },
  {
   "cell_type": "code",
   "execution_count": 63,
   "metadata": {
    "collapsed": false
   },
   "outputs": [],
   "source": [
    "from sklearn.cluster import KMeans\n",
    "\n",
    "km = KMeans(n_clusters=3, verbose=True)"
   ]
  },
  {
   "cell_type": "code",
   "execution_count": 64,
   "metadata": {
    "collapsed": false
   },
   "outputs": [
    {
     "name": "stdout",
     "output_type": "stream",
     "text": [
      "Initialization complete\n",
      "Iteration  0, inertia 979869.000\n",
      "Iteration  1, inertia 934942.051\n",
      "Iteration  2, inertia 925612.617\n",
      "Iteration  3, inertia 922915.296\n",
      "Converged at iteration 3\n",
      "Initialization complete\n",
      "Iteration  0, inertia 1331127.000\n",
      "Iteration  1, inertia 926930.693\n",
      "Iteration  2, inertia 925255.954\n",
      "Iteration  3, inertia 924129.085\n",
      "Iteration  4, inertia 922558.648\n",
      "Iteration  5, inertia 921654.911\n",
      "Converged at iteration 5\n",
      "Initialization complete\n",
      "Iteration  0, inertia 2099599.000\n",
      "Iteration  1, inertia 925110.605\n",
      "Iteration  2, inertia 922915.296\n",
      "Converged at iteration 2\n",
      "Initialization complete\n",
      "Iteration  0, inertia 1041731.000\n",
      "Iteration  1, inertia 952175.034\n",
      "Iteration  2, inertia 934837.582\n",
      "Iteration  3, inertia 930654.173\n",
      "Iteration  4, inertia 928426.939\n",
      "Iteration  5, inertia 926997.042\n",
      "Iteration  6, inertia 925907.206\n",
      "Converged at iteration 6\n",
      "Initialization complete\n",
      "Iteration  0, inertia 932592.000\n",
      "Iteration  1, inertia 923562.946\n",
      "Iteration  2, inertia 922093.993\n",
      "Converged at iteration 2\n",
      "Initialization complete\n",
      "Iteration  0, inertia 1871349.000\n",
      "Iteration  1, inertia 1388437.583\n",
      "Iteration  2, inertia 1173091.651\n",
      "Iteration  3, inertia 999189.226\n",
      "Iteration  4, inertia 943860.824\n",
      "Iteration  5, inertia 932403.840\n",
      "Iteration  6, inertia 930148.461\n",
      "Iteration  7, inertia 928426.939\n",
      "Iteration  8, inertia 926997.042\n",
      "Iteration  9, inertia 925907.206\n",
      "Converged at iteration 9\n",
      "Initialization complete\n",
      "Iteration  0, inertia 1089365.000\n",
      "Iteration  1, inertia 962677.949\n",
      "Iteration  2, inertia 932862.672\n",
      "Iteration  3, inertia 925612.617\n",
      "Iteration  4, inertia 922915.296\n",
      "Converged at iteration 4\n",
      "Initialization complete\n",
      "Iteration  0, inertia 1383948.000\n",
      "Iteration  1, inertia 1174236.545\n",
      "Iteration  2, inertia 1002192.802\n",
      "Iteration  3, inertia 943860.824\n",
      "Iteration  4, inertia 932403.840\n",
      "Iteration  5, inertia 930148.461\n",
      "Iteration  6, inertia 928426.939\n",
      "Iteration  7, inertia 926997.042\n",
      "Iteration  8, inertia 925907.206\n",
      "Converged at iteration 8\n",
      "Initialization complete\n",
      "Iteration  0, inertia 1283533.000\n",
      "Iteration  1, inertia 929633.318\n",
      "Iteration  2, inertia 926997.042\n",
      "Iteration  3, inertia 925907.206\n",
      "Converged at iteration 3\n",
      "Initialization complete\n",
      "Iteration  0, inertia 1352799.000\n",
      "Iteration  1, inertia 925179.612\n",
      "Iteration  2, inertia 922740.277\n",
      "Iteration  3, inertia 921654.911\n",
      "Converged at iteration 3\n"
     ]
    },
    {
     "data": {
      "text/plain": [
       "KMeans(copy_x=True, init='k-means++', max_iter=300, n_clusters=3, n_init=10,\n",
       "    n_jobs=1, precompute_distances='auto', random_state=None, tol=0.0001,\n",
       "    verbose=True)"
      ]
     },
     "execution_count": 64,
     "metadata": {},
     "output_type": "execute_result"
    }
   ],
   "source": [
    "km.fit(df[['weight']])"
   ]
  },
  {
   "cell_type": "code",
   "execution_count": 65,
   "metadata": {
    "collapsed": false
   },
   "outputs": [
    {
     "name": "stdout",
     "output_type": "stream",
     "text": [
      "Initialization complete\n",
      "Iteration  0, inertia 1180920.000\n",
      "Iteration  1, inertia 924734.150\n",
      "Iteration  2, inertia 922915.296\n",
      "Converged at iteration 2\n",
      "Initialization complete\n",
      "Iteration  0, inertia 970454.000\n",
      "Iteration  1, inertia 936256.647\n",
      "Iteration  2, inertia 930654.173\n",
      "Iteration  3, inertia 928426.939\n",
      "Iteration  4, inertia 926997.042\n",
      "Iteration  5, inertia 925907.206\n",
      "Converged at iteration 5\n",
      "Initialization complete\n",
      "Iteration  0, inertia 1290984.000\n",
      "Iteration  1, inertia 1028796.016\n",
      "Iteration  2, inertia 958107.294\n",
      "Iteration  3, inertia 936256.647\n",
      "Iteration  4, inertia 930654.173\n",
      "Iteration  5, inertia 928426.939\n",
      "Iteration  6, inertia 926997.042\n",
      "Iteration  7, inertia 925907.206\n",
      "Converged at iteration 7\n",
      "Initialization complete\n",
      "Iteration  0, inertia 1557039.000\n",
      "Iteration  1, inertia 1095509.611\n",
      "Iteration  2, inertia 971913.063\n",
      "Iteration  3, inertia 941511.671\n",
      "Iteration  4, inertia 932403.840\n",
      "Iteration  5, inertia 930148.461\n",
      "Iteration  6, inertia 928426.939\n",
      "Iteration  7, inertia 926997.042\n",
      "Iteration  8, inertia 925907.206\n",
      "Converged at iteration 8\n",
      "Initialization complete\n",
      "Iteration  0, inertia 1609895.000\n",
      "Iteration  1, inertia 921756.977\n",
      "Iteration  2, inertia 920982.605\n",
      "Converged at iteration 2\n",
      "Initialization complete\n",
      "Iteration  0, inertia 1364693.000\n",
      "Iteration  1, inertia 972162.777\n",
      "Iteration  2, inertia 936488.642\n",
      "Iteration  3, inertia 925999.385\n",
      "Iteration  4, inertia 922915.296\n",
      "Converged at iteration 4\n",
      "Initialization complete\n",
      "Iteration  0, inertia 940922.000\n",
      "Iteration  1, inertia 920779.186\n",
      "Converged at iteration 1\n",
      "Initialization complete\n",
      "Iteration  0, inertia 1505871.000\n",
      "Iteration  1, inertia 963249.103\n",
      "Iteration  2, inertia 936256.647\n",
      "Iteration  3, inertia 930654.173\n",
      "Iteration  4, inertia 928426.939\n",
      "Iteration  5, inertia 926997.042\n",
      "Iteration  6, inertia 925907.206\n",
      "Converged at iteration 6\n",
      "Initialization complete\n",
      "Iteration  0, inertia 1482296.000\n",
      "Iteration  1, inertia 933501.983\n",
      "Iteration  2, inertia 925612.617\n",
      "Iteration  3, inertia 922915.296\n",
      "Converged at iteration 3\n",
      "Initialization complete\n",
      "Iteration  0, inertia 1696533.000\n",
      "Iteration  1, inertia 921748.889\n",
      "Iteration  2, inertia 920745.084\n",
      "Converged at iteration 2\n"
     ]
    },
    {
     "data": {
      "text/plain": [
       "KMeans(copy_x=True, init='k-means++', max_iter=300, n_clusters=3, n_init=10,\n",
       "    n_jobs=1, precompute_distances='auto', random_state=None, tol=0.0001,\n",
       "    verbose=True)"
      ]
     },
     "execution_count": 65,
     "metadata": {},
     "output_type": "execute_result"
    }
   ],
   "source": [
    "km.fit(df[['weight']])"
   ]
  },
  {
   "cell_type": "code",
   "execution_count": 66,
   "metadata": {
    "collapsed": false
   },
   "outputs": [
    {
     "data": {
      "text/plain": [
       "array([2, 1, 2, 0, 0, 2, 0, 1, 0, 2, 1, 2, 2, 1, 1, 1, 1, 2, 0, 0, 2, 1, 0,\n",
       "       2, 1, 2, 1, 0, 1, 2, 2, 0, 2, 2, 0, 1, 2, 2, 1, 0, 1, 0, 0, 1, 0, 1,\n",
       "       0, 0, 1, 1, 0, 2, 1, 0, 1, 1, 1, 2, 0, 2, 1, 1, 0, 0, 2, 1, 1, 1, 1,\n",
       "       1, 1, 2, 2, 1, 2, 0, 1, 0, 2, 1, 1, 0, 1, 0, 1, 0, 0, 1, 1, 1, 1, 0,\n",
       "       0, 0, 2, 2, 2, 1, 0, 1, 2, 1, 1, 1, 2, 1, 1, 0, 2, 1, 1, 1, 2, 1, 1,\n",
       "       1, 1, 0, 0, 1, 2, 1, 0, 1, 1, 2, 1, 1, 1, 1, 1, 2, 2, 1, 1, 0, 2, 1,\n",
       "       2, 2, 1, 1, 0, 1, 1, 2, 0, 1, 2, 2, 0, 0, 2, 1, 0, 1, 2, 1, 0, 1, 1,\n",
       "       1, 0, 1, 2, 1, 1, 0, 0, 0, 0, 2, 2, 0, 0, 2, 1, 1, 1, 0, 0, 1, 1, 1,\n",
       "       0, 2, 1, 0, 0, 1, 1, 2, 0, 1, 2, 2, 2, 1, 2, 2, 2, 1, 1, 0, 1, 1, 1,\n",
       "       0, 2, 2, 2, 1, 1, 0, 2, 0, 0, 1, 1, 1, 2, 1, 2, 0, 2, 1, 1, 0, 1, 1,\n",
       "       1, 1, 0, 2, 2, 2, 0, 2, 2, 0, 1, 0, 1, 2, 1, 0, 1, 1, 1, 2, 1, 0, 2,\n",
       "       2, 1, 0, 1, 2, 2, 1, 1, 0, 0, 1, 1, 2, 0, 1, 2, 0, 0, 2, 0, 1, 1, 1,\n",
       "       1, 2, 2, 0, 2, 2, 0, 0, 1, 1, 0, 1, 1, 1, 2, 2, 1, 1, 0, 1, 0, 0, 1,\n",
       "       1, 1, 1, 1, 1, 0, 1, 0, 2, 2, 1, 0, 2, 0, 0, 2, 1, 0, 0, 1, 1, 1, 1,\n",
       "       1, 0, 1, 0, 1, 2, 1, 2, 2, 1, 1, 0, 1, 0, 2, 2, 2, 2, 1, 2, 2, 1, 1,\n",
       "       1, 0, 1, 0, 1, 2, 0, 0, 1, 1, 0, 0, 1, 2, 1, 0, 0, 2, 0, 1, 2, 0, 0,\n",
       "       2, 1, 1, 1, 1, 0, 1, 0, 1, 1, 0, 1, 0, 2, 0, 1, 0, 1, 2, 1, 1, 2, 1,\n",
       "       0, 2, 1, 1, 2, 1, 0, 2, 2, 0, 1, 1, 2, 1, 0, 1, 1, 1, 1, 1, 1, 0, 1,\n",
       "       2, 2, 2, 0, 2, 2, 2, 2, 2, 1, 0, 2, 2, 1, 0, 1, 2, 0, 2, 1, 0, 0, 1,\n",
       "       0, 1, 0, 1, 1, 1, 0, 1, 2, 1, 0, 0, 1, 0, 1, 0, 1, 1, 2, 1, 0, 1, 0,\n",
       "       0, 1, 1, 2, 1, 1, 1, 1, 0, 0, 0, 2, 2, 1, 0, 2, 1, 1, 1, 2, 1, 0, 1,\n",
       "       1, 1, 1, 1, 1, 2, 1, 1, 1, 0, 1, 0, 2, 2, 1, 0, 1, 2, 2, 0, 1, 0, 1,\n",
       "       1, 2, 0, 0, 1, 1, 0, 1, 0, 1, 1, 0, 0, 1, 1, 2, 0, 1, 1, 2, 2, 1, 1,\n",
       "       0, 1, 0, 1, 0, 2, 1, 2, 0, 0, 0, 2, 0, 2, 1, 2, 2, 2, 1, 2, 1, 2, 2,\n",
       "       0, 0, 0, 1, 0, 0, 0, 2, 1, 1, 0, 1, 2, 2, 2, 2, 0, 2, 0, 1, 2, 2, 1,\n",
       "       0, 0, 2, 0, 1, 1, 1, 2, 0, 2, 0, 1, 1, 2, 1, 1, 0, 1, 2, 0, 1, 1, 1,\n",
       "       0, 0, 2, 2, 1, 1, 1, 2, 1, 1, 2, 1, 1, 2, 0, 1, 1, 0, 0, 2, 0, 2, 0,\n",
       "       0, 2, 1, 0, 2, 1, 1, 2, 0, 0, 0, 2, 1, 0, 2, 2, 1, 2, 2, 2, 1, 1, 0,\n",
       "       0, 1, 0, 0, 2, 1, 0, 2, 1, 0, 0, 1, 2, 1, 1, 0, 0, 1, 1, 1, 0, 1, 1,\n",
       "       2, 1, 0, 2, 1, 1, 1, 0, 0, 0, 2, 1, 1, 2, 1, 1, 1, 2, 1, 1, 1, 0, 1,\n",
       "       0, 0, 1, 0, 1, 1, 1, 1, 2, 2, 0, 2, 0, 1, 2, 2, 1, 1, 1, 0, 1, 2, 2,\n",
       "       1, 0, 1, 1, 2, 1, 2, 1, 2, 2, 1, 1, 2, 2, 2, 0, 0, 1, 2, 2, 0, 0, 1,\n",
       "       0, 2, 2, 0, 0, 1, 1, 0, 0, 1, 1, 2, 1, 2, 0, 1, 0, 1, 0, 0, 1, 0, 2,\n",
       "       0, 0, 2, 1, 1, 1, 1, 0, 1, 1, 1, 2, 2, 0, 2, 2, 1, 0, 1, 1, 0, 0, 0,\n",
       "       2, 0, 2, 1, 1, 0, 1, 0, 1, 2, 0, 0, 0, 2, 1, 2, 1, 2, 1, 2, 1, 0, 0,\n",
       "       2, 0, 1, 2, 0, 1, 2, 0, 0, 0, 0, 0, 1, 1, 0, 1, 2, 2, 0, 0, 1, 1, 0,\n",
       "       0, 2, 0, 1, 1, 1, 1, 1, 1, 0, 0, 1, 1, 1, 0, 1, 2, 2, 0, 1, 2, 1, 0,\n",
       "       1, 1, 2, 1, 0, 0, 1, 1, 1, 0, 1, 1, 0, 2, 1, 0, 2, 1, 2, 1, 1, 1, 1,\n",
       "       2, 0, 0, 1, 1, 1, 1, 1, 1, 2, 1, 1, 2, 1, 1, 2, 1, 0, 1, 1, 1, 2, 2,\n",
       "       1, 0, 2, 2, 2, 0, 1, 1, 1, 1, 1, 1, 0, 1, 1, 2, 1, 1, 0, 1, 1, 0, 0,\n",
       "       1, 1, 1, 2, 1, 0, 0, 1, 2, 1, 0, 0, 1, 2, 1, 1, 0, 0, 2, 2, 1, 1, 0,\n",
       "       1, 2, 1, 2, 0, 2, 0, 1, 2, 0, 2, 2, 2, 2, 1, 2, 1, 1, 2, 1, 1, 2, 1,\n",
       "       2, 1, 2, 0, 1, 1, 2, 2, 2, 1, 1, 0, 1, 0, 1, 0, 1, 2, 1, 2, 1, 2, 0,\n",
       "       1, 2, 0, 0, 0, 2, 1, 2, 1, 0, 1], dtype=int32)"
      ]
     },
     "execution_count": 66,
     "metadata": {},
     "output_type": "execute_result"
    }
   ],
   "source": [
    "km.predict(df[['weight']])"
   ]
  },
  {
   "cell_type": "code",
   "execution_count": 67,
   "metadata": {
    "collapsed": true
   },
   "outputs": [],
   "source": [
    "df['prediction'] = km.predict(df[['weight']])"
   ]
  },
  {
   "cell_type": "code",
   "execution_count": 68,
   "metadata": {
    "collapsed": false
   },
   "outputs": [
    {
     "data": {
      "text/plain": [
       "prediction\n",
       "0    Axes(0.125,0.125;0.775x0.775)\n",
       "1    Axes(0.125,0.125;0.775x0.775)\n",
       "2    Axes(0.125,0.125;0.775x0.775)\n",
       "Name: weight, dtype: object"
      ]
     },
     "execution_count": 68,
     "metadata": {},
     "output_type": "execute_result"
    },
    {
     "data": {
      "image/png": "[encoded data removed]",
      "text/plain": [
       "<matplotlib.figure.Figure at 0x10d2c9a58>"
      ]
     },
     "metadata": {},
     "output_type": "display_data"
    }
   ],
   "source": [
    "df.groupby('prediction')['weight'].hist()"
   ]
  },
  {
   "cell_type": "code",
   "execution_count": 69,
   "metadata": {
    "collapsed": true
   },
   "outputs": [],
   "source": [
    "df = pd.read_csv('nba_2013_cleaned.csv')"
   ]
  },
  {
   "cell_type": "code",
   "execution_count": 70,
   "metadata": {
    "collapsed": false
   },
   "outputs": [
    {
     "data": {
      "text/html": [
       "<div>\n",
       "<table border=\"1\" class=\"dataframe\">\n",
       "  <thead>\n",
       "    <tr style=\"text-align: right;\">\n",
       "      <th></th>\n",
       "      <th>Name</th>\n",
       "      <th>Age</th>\n",
       "      <th>Team</th>\n",
       "      <th>POS</th>\n",
       "      <th>Number</th>\n",
       "      <th>Salary</th>\n",
       "      <th>Height</th>\n",
       "      <th>Weight</th>\n",
       "      <th>Years</th>\n",
       "      <th>1st Year</th>\n",
       "      <th>DOB</th>\n",
       "      <th>School</th>\n",
       "      <th>City</th>\n",
       "      <th>State/Province</th>\n",
       "      <th>Country</th>\n",
       "      <th>Race</th>\n",
       "      <th>HS Only</th>\n",
       "    </tr>\n",
       "  </thead>\n",
       "  <tbody>\n",
       "    <tr>\n",
       "      <th>0</th>\n",
       "      <td>Gee, Alonzo</td>\n",
       "      <td>26</td>\n",
       "      <td>Cavaliers</td>\n",
       "      <td>F</td>\n",
       "      <td>33</td>\n",
       "      <td>3250000.0</td>\n",
       "      <td>78</td>\n",
       "      <td>219</td>\n",
       "      <td>4</td>\n",
       "      <td>2009</td>\n",
       "      <td>5/29/1987</td>\n",
       "      <td>Alabama</td>\n",
       "      <td>Riviera Beach, FL</td>\n",
       "      <td>Florida</td>\n",
       "      <td>US</td>\n",
       "      <td>Black</td>\n",
       "      <td>No</td>\n",
       "    </tr>\n",
       "    <tr>\n",
       "      <th>1</th>\n",
       "      <td>Wallace, Gerald</td>\n",
       "      <td>31</td>\n",
       "      <td>Celtics</td>\n",
       "      <td>F</td>\n",
       "      <td>45</td>\n",
       "      <td>10105855.0</td>\n",
       "      <td>79</td>\n",
       "      <td>220</td>\n",
       "      <td>12</td>\n",
       "      <td>2001</td>\n",
       "      <td>7/23/1982</td>\n",
       "      <td>Alabama</td>\n",
       "      <td>Sylacauga, AL</td>\n",
       "      <td>Alabama</td>\n",
       "      <td>US</td>\n",
       "      <td>Black</td>\n",
       "      <td>No</td>\n",
       "    </tr>\n",
       "    <tr>\n",
       "      <th>2</th>\n",
       "      <td>Williams, Mo</td>\n",
       "      <td>30</td>\n",
       "      <td>Trail Blazers</td>\n",
       "      <td>G</td>\n",
       "      <td>25</td>\n",
       "      <td>2652000.0</td>\n",
       "      <td>73</td>\n",
       "      <td>195</td>\n",
       "      <td>10</td>\n",
       "      <td>2003</td>\n",
       "      <td>12/19/1982</td>\n",
       "      <td>Alabama</td>\n",
       "      <td>Jackson, MS</td>\n",
       "      <td>Mississippi</td>\n",
       "      <td>US</td>\n",
       "      <td>Black</td>\n",
       "      <td>No</td>\n",
       "    </tr>\n",
       "    <tr>\n",
       "      <th>3</th>\n",
       "      <td>Gladness, Mickell</td>\n",
       "      <td>27</td>\n",
       "      <td>Magic</td>\n",
       "      <td>C</td>\n",
       "      <td>40</td>\n",
       "      <td>762195.0</td>\n",
       "      <td>83</td>\n",
       "      <td>220</td>\n",
       "      <td>2</td>\n",
       "      <td>2011</td>\n",
       "      <td>7/26/1986</td>\n",
       "      <td>Alabama A&amp;M</td>\n",
       "      <td>Birmingham, AL</td>\n",
       "      <td>Alabama</td>\n",
       "      <td>US</td>\n",
       "      <td>Black</td>\n",
       "      <td>No</td>\n",
       "    </tr>\n",
       "    <tr>\n",
       "      <th>4</th>\n",
       "      <td>Jefferson, Richard</td>\n",
       "      <td>33</td>\n",
       "      <td>Jazz</td>\n",
       "      <td>F</td>\n",
       "      <td>44</td>\n",
       "      <td>11046000.0</td>\n",
       "      <td>79</td>\n",
       "      <td>230</td>\n",
       "      <td>12</td>\n",
       "      <td>2001</td>\n",
       "      <td>6/21/1980</td>\n",
       "      <td>Arizona</td>\n",
       "      <td>Los Angeles, CA</td>\n",
       "      <td>California</td>\n",
       "      <td>US</td>\n",
       "      <td>Black</td>\n",
       "      <td>No</td>\n",
       "    </tr>\n",
       "  </tbody>\n",
       "</table>\n",
       "</div>"
      ],
      "text/plain": [
       "                 Name  Age           Team POS Number      Salary  Height  \\\n",
       "0         Gee, Alonzo   26      Cavaliers   F     33   3250000.0      78   \n",
       "1     Wallace, Gerald   31        Celtics   F     45  10105855.0      79   \n",
       "2        Williams, Mo   30  Trail Blazers   G     25   2652000.0      73   \n",
       "3   Gladness, Mickell   27          Magic   C     40    762195.0      83   \n",
       "4  Jefferson, Richard   33           Jazz   F     44  11046000.0      79   \n",
       "\n",
       "   Weight  Years  1st Year         DOB       School               City  \\\n",
       "0     219      4      2009   5/29/1987      Alabama  Riviera Beach, FL   \n",
       "1     220     12      2001   7/23/1982      Alabama      Sylacauga, AL   \n",
       "2     195     10      2003  12/19/1982      Alabama        Jackson, MS   \n",
       "3     220      2      2011   7/26/1986  Alabama A&M     Birmingham, AL   \n",
       "4     230     12      2001   6/21/1980      Arizona    Los Angeles, CA   \n",
       "\n",
       "  State/Province Country   Race HS Only  \n",
       "0        Florida      US  Black      No  \n",
       "1        Alabama      US  Black      No  \n",
       "2    Mississippi      US  Black      No  \n",
       "3        Alabama      US  Black      No  \n",
       "4     California      US  Black      No  "
      ]
     },
     "execution_count": 70,
     "metadata": {},
     "output_type": "execute_result"
    }
   ],
   "source": [
    "df.head()"
   ]
  },
  {
   "cell_type": "code",
   "execution_count": 71,
   "metadata": {
    "collapsed": false
   },
   "outputs": [],
   "source": [
    "df = df[(df['POS'] == 'C') | (df['POS'] == 'F')| (df['POS'] == 'G')]"
   ]
  },
  {
   "cell_type": "code",
   "execution_count": 72,
   "metadata": {
    "collapsed": false
   },
   "outputs": [
    {
     "data": {
      "text/plain": [
       "G    175\n",
       "F    142\n",
       "C     67\n",
       "Name: POS, dtype: int64"
      ]
     },
     "execution_count": 72,
     "metadata": {},
     "output_type": "execute_result"
    }
   ],
   "source": [
    "df['POS'].value_counts()"
   ]
  },
  {
   "cell_type": "code",
   "execution_count": 73,
   "metadata": {
    "collapsed": false
   },
   "outputs": [
    {
     "data": {
      "text/html": [
       "<div>\n",
       "<table border=\"1\" class=\"dataframe\">\n",
       "  <thead>\n",
       "    <tr style=\"text-align: right;\">\n",
       "      <th></th>\n",
       "      <th>POS</th>\n",
       "      <th>POS_label</th>\n",
       "    </tr>\n",
       "  </thead>\n",
       "  <tbody>\n",
       "    <tr>\n",
       "      <th>0</th>\n",
       "      <td>F</td>\n",
       "      <td>1</td>\n",
       "    </tr>\n",
       "    <tr>\n",
       "      <th>1</th>\n",
       "      <td>F</td>\n",
       "      <td>1</td>\n",
       "    </tr>\n",
       "    <tr>\n",
       "      <th>2</th>\n",
       "      <td>G</td>\n",
       "      <td>2</td>\n",
       "    </tr>\n",
       "    <tr>\n",
       "      <th>3</th>\n",
       "      <td>C</td>\n",
       "      <td>0</td>\n",
       "    </tr>\n",
       "    <tr>\n",
       "      <th>4</th>\n",
       "      <td>F</td>\n",
       "      <td>1</td>\n",
       "    </tr>\n",
       "  </tbody>\n",
       "</table>\n",
       "</div>"
      ],
      "text/plain": [
       "  POS  POS_label\n",
       "0   F          1\n",
       "1   F          1\n",
       "2   G          2\n",
       "3   C          0\n",
       "4   F          1"
      ]
     },
     "execution_count": 73,
     "metadata": {},
     "output_type": "execute_result"
    }
   ],
   "source": [
    "from sklearn import preprocessing\n",
    "le = preprocessing.LabelEncoder()\n",
    "df['POS_label'] = le.fit_transform(df['POS'])\n",
    "df[['POS', 'POS_label']].head()"
   ]
  },
  {
   "cell_type": "code",
   "execution_count": 74,
   "metadata": {
    "collapsed": false
   },
   "outputs": [
    {
     "data": {
      "text/plain": [
       "<matplotlib.collections.PathCollection at 0x10d6b0128>"
      ]
     },
     "execution_count": 74,
     "metadata": {},
     "output_type": "execute_result"
    },
    {
     "data": {
      "image/png": "[encoded data removed]",
      "text/plain": [
       "<matplotlib.figure.Figure at 0x10db05f98>"
      ]
     },
     "metadata": {},
     "output_type": "display_data"
    }
   ],
   "source": [
    "plt.scatter(df['Weight'], df['Height'], edgecolor='none', c=df['POS_label'], alpha=0.5)"
   ]
  },
  {
   "cell_type": "code",
   "execution_count": 75,
   "metadata": {
    "collapsed": false
   },
   "outputs": [
    {
     "data": {
      "text/plain": [
       "KMeans(copy_x=True, init='k-means++', max_iter=300, n_clusters=4, n_init=10,\n",
       "    n_jobs=1, precompute_distances='auto', random_state=None, tol=0.0001,\n",
       "    verbose=0)"
      ]
     },
     "execution_count": 75,
     "metadata": {},
     "output_type": "execute_result"
    }
   ],
   "source": [
    "km = KMeans(n_clusters=4)\n",
    "km.fit(df[['Weight', 'Height']])"
   ]
  },
  {
   "cell_type": "code",
   "execution_count": 76,
   "metadata": {
    "collapsed": false
   },
   "outputs": [
    {
     "data": {
      "text/html": [
       "<div>\n",
       "<table border=\"1\" class=\"dataframe\">\n",
       "  <thead>\n",
       "    <tr style=\"text-align: right;\">\n",
       "      <th></th>\n",
       "      <th>Name</th>\n",
       "      <th>Age</th>\n",
       "      <th>Team</th>\n",
       "      <th>POS</th>\n",
       "      <th>Number</th>\n",
       "      <th>Salary</th>\n",
       "      <th>Height</th>\n",
       "      <th>Weight</th>\n",
       "      <th>Years</th>\n",
       "      <th>1st Year</th>\n",
       "      <th>DOB</th>\n",
       "      <th>School</th>\n",
       "      <th>City</th>\n",
       "      <th>State/Province</th>\n",
       "      <th>Country</th>\n",
       "      <th>Race</th>\n",
       "      <th>HS Only</th>\n",
       "      <th>POS_label</th>\n",
       "      <th>cluster_4</th>\n",
       "    </tr>\n",
       "  </thead>\n",
       "  <tbody>\n",
       "    <tr>\n",
       "      <th>0</th>\n",
       "      <td>Gee, Alonzo</td>\n",
       "      <td>26</td>\n",
       "      <td>Cavaliers</td>\n",
       "      <td>F</td>\n",
       "      <td>33</td>\n",
       "      <td>3250000.0</td>\n",
       "      <td>78</td>\n",
       "      <td>219</td>\n",
       "      <td>4</td>\n",
       "      <td>2009</td>\n",
       "      <td>5/29/1987</td>\n",
       "      <td>Alabama</td>\n",
       "      <td>Riviera Beach, FL</td>\n",
       "      <td>Florida</td>\n",
       "      <td>US</td>\n",
       "      <td>Black</td>\n",
       "      <td>No</td>\n",
       "      <td>1</td>\n",
       "      <td>0</td>\n",
       "    </tr>\n",
       "    <tr>\n",
       "      <th>1</th>\n",
       "      <td>Wallace, Gerald</td>\n",
       "      <td>31</td>\n",
       "      <td>Celtics</td>\n",
       "      <td>F</td>\n",
       "      <td>45</td>\n",
       "      <td>10105855.0</td>\n",
       "      <td>79</td>\n",
       "      <td>220</td>\n",
       "      <td>12</td>\n",
       "      <td>2001</td>\n",
       "      <td>7/23/1982</td>\n",
       "      <td>Alabama</td>\n",
       "      <td>Sylacauga, AL</td>\n",
       "      <td>Alabama</td>\n",
       "      <td>US</td>\n",
       "      <td>Black</td>\n",
       "      <td>No</td>\n",
       "      <td>1</td>\n",
       "      <td>0</td>\n",
       "    </tr>\n",
       "  </tbody>\n",
       "</table>\n",
       "</div>"
      ],
      "text/plain": [
       "              Name  Age       Team POS Number      Salary  Height  Weight  \\\n",
       "0      Gee, Alonzo   26  Cavaliers   F     33   3250000.0      78     219   \n",
       "1  Wallace, Gerald   31    Celtics   F     45  10105855.0      79     220   \n",
       "\n",
       "   Years  1st Year        DOB   School               City State/Province  \\\n",
       "0      4      2009  5/29/1987  Alabama  Riviera Beach, FL        Florida   \n",
       "1     12      2001  7/23/1982  Alabama      Sylacauga, AL        Alabama   \n",
       "\n",
       "  Country   Race HS Only  POS_label  cluster_4  \n",
       "0      US  Black      No          1          0  \n",
       "1      US  Black      No          1          0  "
      ]
     },
     "execution_count": 76,
     "metadata": {},
     "output_type": "execute_result"
    }
   ],
   "source": [
    "df['cluster_4'] = km.predict(df[['Weight', 'Height']])\n",
    "df.head(2)"
   ]
  },
  {
   "cell_type": "code",
   "execution_count": 77,
   "metadata": {
    "collapsed": false
   },
   "outputs": [
    {
     "data": {
      "text/plain": [
       "cluster_4  POS\n",
       "0          F       72\n",
       "           G       52\n",
       "           C        6\n",
       "1          F       65\n",
       "           C       60\n",
       "2          G      122\n",
       "           F        5\n",
       "           C        1\n",
       "3          G        1\n",
       "Name: POS, dtype: int64"
      ]
     },
     "execution_count": 77,
     "metadata": {},
     "output_type": "execute_result"
    }
   ],
   "source": [
    "df.groupby('cluster_4')['POS'].value_counts()"
   ]
  },
  {
   "cell_type": "code",
   "execution_count": 78,
   "metadata": {
    "collapsed": false
   },
   "outputs": [
    {
     "data": {
      "image/png": "[encoded data removed]",
      "text/plain": [
       "<matplotlib.figure.Figure at 0x10d520080>"
      ]
     },
     "metadata": {},
     "output_type": "display_data"
    }
   ],
   "source": [
    "import numpy as np\n",
    "plt.scatter(df['Weight'], df['Height'], edgecolor='none', c=df['cluster_4'], alpha=0.5)\n",
    "plt.scatter(km.cluster_centers_[:,0], km.cluster_centers_[:,1], s=100, c=np.unique(km.labels_))\n",
    "plt.grid()"
   ]
  },
  {
   "cell_type": "code",
   "execution_count": 79,
   "metadata": {
    "collapsed": false
   },
   "outputs": [
    {
     "name": "stderr",
     "output_type": "stream",
     "text": [
      "/Users/Monica/.virtualenvs/dataanalysis/lib/python3.5/site-packages/sklearn/utils/validation.py:420: DataConversionWarning: Data with input dtype int64 was converted to float64 by the scale function.\n",
      "  warnings.warn(msg, DataConversionWarning)\n",
      "/Users/Monica/.virtualenvs/dataanalysis/lib/python3.5/site-packages/sklearn/utils/validation.py:420: DataConversionWarning: Data with input dtype int64 was converted to float64 by the scale function.\n",
      "  warnings.warn(msg, DataConversionWarning)\n"
     ]
    }
   ],
   "source": [
    "from sklearn import preprocessing\n",
    "df['scaled_height'] = preprocessing.scale(df['Height'])\n",
    "df['scaled_weight'] = preprocessing.scale(df['Weight'])"
   ]
  },
  {
   "cell_type": "code",
   "execution_count": 80,
   "metadata": {
    "collapsed": false
   },
   "outputs": [
    {
     "data": {
      "image/png": "[encoded data removed]",
      "text/plain": [
       "<matplotlib.figure.Figure at 0x10d531208>"
      ]
     },
     "metadata": {},
     "output_type": "display_data"
    }
   ],
   "source": [
    "import numpy as py\n",
    "plt.scatter(df['scaled_weight'], df['scaled_height'], edgecolor='none', c=df['cluster_4'], alpha=0.5)\n",
    "plt.grid()"
   ]
  },
  {
   "cell_type": "code",
   "execution_count": 81,
   "metadata": {
    "collapsed": false
   },
   "outputs": [
    {
     "data": {
      "text/plain": [
       "1    159\n",
       "0    120\n",
       "2    105\n",
       "Name: scaled_prediction, dtype: int64"
      ]
     },
     "execution_count": 81,
     "metadata": {},
     "output_type": "execute_result"
    }
   ],
   "source": [
    "km = KMeans(n_clusters=3)\n",
    "km.fit(df[['scaled_weight', 'scaled_height']])\n",
    "df['scaled_prediction'] = km.predict(df[['scaled_weight', 'scaled_height']])\n",
    "df['scaled_prediction'].value_counts()"
   ]
  },
  {
   "cell_type": "code",
   "execution_count": 83,
   "metadata": {
    "collapsed": false
   },
   "outputs": [
    {
     "data": {
      "image/png": "[encoded data removed]",
      "text/plain": [
       "<matplotlib.figure.Figure at 0x10db836d8>"
      ]
     },
     "metadata": {},
     "output_type": "display_data"
    }
   ],
   "source": [
    "plt.scatter(df['scaled_weight'], df['scaled_height'], edgecolor='none', c=df['POS_label'], alpha=0.5)\n",
    "plt.grid() #how did we perform (Clusters) in comparision to the actual labels "
   ]
  },
  {
   "cell_type": "code",
   "execution_count": 85,
   "metadata": {
    "collapsed": false
   },
   "outputs": [
    {
     "ename": "TypeError",
     "evalue": "completeness_score() missing 1 required positional argument: 'labels_pred'",
     "output_type": "error",
     "traceback": [
      "\u001b[0;31m---------------------------------------------------------------------------\u001b[0m",
      "\u001b[0;31mTypeError\u001b[0m                                 Traceback (most recent call last)",
      "\u001b[0;32m<ipython-input-85-88656efb07d0>\u001b[0m in \u001b[0;36m<module>\u001b[0;34m()\u001b[0m\n\u001b[1;32m      1\u001b[0m \u001b[0;32mfrom\u001b[0m \u001b[0msklearn\u001b[0m \u001b[0;32mimport\u001b[0m \u001b[0mmetrics\u001b[0m\u001b[0;34m\u001b[0m\u001b[0m\n\u001b[0;32m----> 2\u001b[0;31m \u001b[0mmetrics\u001b[0m\u001b[0;34m.\u001b[0m\u001b[0mcompleteness_score\u001b[0m\u001b[0;34m(\u001b[0m\u001b[0mdf\u001b[0m\u001b[0;34m[\u001b[0m\u001b[0;34m'POS_label'\u001b[0m\u001b[0;34m]\u001b[0m\u001b[0;34m)\u001b[0m\u001b[0;34m\u001b[0m\u001b[0m\n\u001b[0m",
      "\u001b[0;31mTypeError\u001b[0m: completeness_score() missing 1 required positional argument: 'labels_pred'"
     ]
    }
   ],
   "source": [
    "from sklearn import metrics\n",
    "metrics.completeness_score(df['POS_label'])"
   ]
  },
  {
   "cell_type": "code",
   "execution_count": 86,
   "metadata": {
    "collapsed": false
   },
   "outputs": [
    {
     "data": {
      "text/plain": [
       "scaled_prediction  POS\n",
       "0                  F      102\n",
       "                   G       16\n",
       "                   C        2\n",
       "1                  G      159\n",
       "2                  C       65\n",
       "                   F       40\n",
       "Name: POS, dtype: int64"
      ]
     },
     "execution_count": 86,
     "metadata": {},
     "output_type": "execute_result"
    }
   ],
   "source": [
    "df.groupby('scaled_prediction')['POS'].value_counts()"
   ]
  },
  {
   "cell_type": "code",
   "execution_count": null,
   "metadata": {
    "collapsed": true
   },
   "outputs": [],
   "source": []
  },
  {
   "cell_type": "code",
   "execution_count": null,
   "metadata": {
    "collapsed": true
   },
   "outputs": [],
   "source": []
  }
 ],
 "metadata": {
  "kernelspec": {
   "display_name": "Python 3",
   "language": "python",
   "name": "python3"
  },
  "language_info": {
   "codemirror_mode": {
    "name": "ipython",
    "version": 3
   },
   "file_extension": ".py",
   "mimetype": "text/x-python",
   "name": "python",
   "nbconvert_exporter": "python",
   "pygments_lexer": "ipython3",
   "version": "3.5.1"
  }
 },
 "nbformat": 4,
 "nbformat_minor": 0
}
