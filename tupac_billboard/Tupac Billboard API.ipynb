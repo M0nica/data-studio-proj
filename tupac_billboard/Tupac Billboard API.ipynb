{
 "cells": [
  {
   "cell_type": "code",
   "execution_count": 1,
   "metadata": {
    "collapsed": false
   },
   "outputs": [
    {
     "name": "stdout",
     "output_type": "stream",
     "text": [
      "Requirement already satisfied (use --upgrade to upgrade): billboard.py in /Users/Monica/.virtualenvs/dataanalysis/lib/python3.5/site-packages\n",
      "Requirement already satisfied (use --upgrade to upgrade): beautifulsoup4>=4.4.1 in /Users/Monica/.virtualenvs/dataanalysis/lib/python3.5/site-packages (from billboard.py)\n",
      "Requirement already satisfied (use --upgrade to upgrade): requests>=2.2.1 in /Users/Monica/.virtualenvs/dataanalysis/lib/python3.5/site-packages (from billboard.py)\n"
     ]
    }
   ],
   "source": [
    "!pip install billboard.py"
   ]
  },
  {
   "cell_type": "code",
   "execution_count": 2,
   "metadata": {
    "collapsed": true
   },
   "outputs": [],
   "source": [
    "import billboard"
   ]
  },
  {
   "cell_type": "code",
   "execution_count": 3,
   "metadata": {
    "collapsed": true
   },
   "outputs": [],
   "source": [
    "chart = billboard.ChartData('rap-song')"
   ]
  },
  {
   "cell_type": "code",
   "execution_count": 4,
   "metadata": {
    "collapsed": false
   },
   "outputs": [],
   "source": [
    "song = chart[0]"
   ]
  },
  {
   "cell_type": "code",
   "execution_count": 15,
   "metadata": {
    "collapsed": false
   },
   "outputs": [
    {
     "data": {
      "text/plain": [
       "'Panda'"
      ]
     },
     "execution_count": 15,
     "metadata": {},
     "output_type": "execute_result"
    }
   ],
   "source": [
    "song.title"
   ]
  },
  {
   "cell_type": "code",
   "execution_count": 18,
   "metadata": {
    "collapsed": false
   },
   "outputs": [
    {
     "name": "stdout",
     "output_type": "stream",
     "text": [
      "'Thugz Mansion' by 2Pac the artist was 2Pac\n",
      "'Thugz Mansion' by 2Pac the artist was 2Pac\n",
      "'Thugz Mansion' by 2Pac the artist was 2Pac\n",
      "'Thugz Mansion' by 2Pac the artist was 2Pac\n",
      "'Thugz Mansion' by 2Pac the artist was 2Pac\n",
      "'Thugz Mansion' by 2Pac the artist was 2Pac\n",
      "'Thugz Mansion' by 2Pac the artist was 2Pac\n",
      "'Thugz Mansion' by 2Pac the artist was 2Pac\n",
      "'Thugz Mansion' by 2Pac the artist was 2Pac\n",
      "'Thugz Mansion' by 2Pac the artist was 2Pac\n",
      "'Thugz Mansion' by 2Pac the artist was 2Pac\n",
      "'Thugz Mansion' by 2Pac the artist was 2Pac\n",
      "'Thugz Mansion' by 2Pac the artist was 2Pac\n",
      "'Thugz Mansion' by 2Pac the artist was 2Pac\n",
      "'Thugz Mansion' by 2Pac the artist was 2Pac\n",
      "'Thugz Mansion' by 2Pac the artist was 2Pac\n"
     ]
    }
   ],
   "source": [
    "chart = billboard.ChartData('rap-song')\n",
    "while chart.previousDate:\n",
    "    #doSomething(chart)\n",
    "    for song in chart:\n",
    "        # print(song.keys)\n",
    "        #print(song.artist)\n",
    "        if song.artist == '2Pac':\n",
    "            print(song, \"the artist was 2Pac\")\n",
    "    chart = billboard.ChartData('rap-song', chart.previousDate)\n"
   ]
  },
  {
   "cell_type": "code",
   "execution_count": 5,
   "metadata": {
    "collapsed": false
   },
   "outputs": [
    {
     "name": "stdout",
     "output_type": "stream",
     "text": [
      "'The Best Of 2Pac - Part 1: Thug' by 2Pac the artist was 2Pac\n",
      "'The Best Of 2Pac - Part 1: Thug' by 2Pac the artist was 2Pac\n",
      "'The Best Of 2Pac - Part 1: Thug' by 2Pac the artist was 2Pac\n",
      "'The Best Of 2Pac - Part 1: Thug' by 2Pac the artist was 2Pac\n",
      "'The Best Of 2Pac - Part 2: Life' by 2Pac the artist was 2Pac\n",
      "'Nu Mixx Klazzics Vol. 2 (Evolution: Duets And Remixes)' by 2Pac the artist was 2Pac\n",
      "'Nu Mixx Klazzics Vol. 2 (Evolution: Duets And Remixes)' by 2Pac the artist was 2Pac\n",
      "'Pac's Life' by 2Pac the artist was 2Pac\n",
      "'Pac's Life' by 2Pac the artist was 2Pac\n",
      "'Pac's Life' by 2Pac the artist was 2Pac\n",
      "'Pac's Life' by 2Pac the artist was 2Pac\n",
      "'Pac's Life' by 2Pac the artist was 2Pac\n",
      "'Pac's Life' by 2Pac the artist was 2Pac\n",
      "'Loyal To The Game' by 2Pac the artist was 2Pac\n",
      "'Loyal To The Game' by 2Pac the artist was 2Pac\n",
      "'Loyal To The Game' by 2Pac the artist was 2Pac\n",
      "'Loyal To The Game' by 2Pac the artist was 2Pac\n",
      "'Loyal To The Game' by 2Pac the artist was 2Pac\n",
      "'Loyal To The Game' by 2Pac the artist was 2Pac\n",
      "'Loyal To The Game' by 2Pac the artist was 2Pac\n",
      "'Loyal To The Game' by 2Pac the artist was 2Pac\n",
      "'Loyal To The Game' by 2Pac the artist was 2Pac\n",
      "'Loyal To The Game' by 2Pac the artist was 2Pac\n",
      "'Loyal To The Game' by 2Pac the artist was 2Pac\n",
      "'Loyal To The Game' by 2Pac the artist was 2Pac\n",
      "'Loyal To The Game' by 2Pac the artist was 2Pac\n",
      "'Loyal To The Game' by 2Pac the artist was 2Pac\n"
     ]
    }
   ],
   "source": [
    "chart = billboard.ChartData('rap-albums')\n",
    "while chart.previousDate:\n",
    "    #doSomething(chart)\n",
    "    for album in chart:\n",
    "        # print(song.keys)\n",
    "        #print(song.artist)\n",
    "        if album.artist == '2Pac':\n",
    "            print(album, \"the artist was 2Pac\")\n",
    "    chart = billboard.ChartData('rap-albums', chart.previousDate)\n"
   ]
  },
  {
   "cell_type": "code",
   "execution_count": 9,
   "metadata": {
    "collapsed": false
   },
   "outputs": [
    {
     "data": {
      "text/plain": [
       "'2013-04-20'"
      ]
     },
     "execution_count": 9,
     "metadata": {},
     "output_type": "execute_result"
    }
   ],
   "source": [
    "chart.previousDate"
   ]
  },
  {
   "cell_type": "code",
   "execution_count": null,
   "metadata": {
    "collapsed": true
   },
   "outputs": [],
   "source": []
  }
 ],
 "metadata": {
  "kernelspec": {
   "display_name": "Python 3",
   "language": "python",
   "name": "python3"
  },
  "language_info": {
   "codemirror_mode": {
    "name": "ipython",
    "version": 3
   },
   "file_extension": ".py",
   "mimetype": "text/x-python",
   "name": "python",
   "nbconvert_exporter": "python",
   "pygments_lexer": "ipython3",
   "version": "3.5.1"
  }
 },
 "nbformat": 4,
 "nbformat_minor": 0
}
