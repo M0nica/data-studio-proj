{
 "cells": [
  {
   "cell_type": "code",
   "execution_count": 1,
   "metadata": {
    "collapsed": false
   },
   "outputs": [
    {
     "name": "stdout",
     "output_type": "stream",
     "text": [
      "Requirement already satisfied (use --upgrade to upgrade): config in /Users/Monica/.virtualenvs/dataanalysis/lib/python3.5/site-packages\r\n"
     ]
    }
   ],
   "source": [
    "!pip install config"
   ]
  },
  {
   "cell_type": "code",
   "execution_count": 2,
   "metadata": {
    "collapsed": false
   },
   "outputs": [],
   "source": [
    "import config\n",
    "import requests"
   ]
  },
  {
   "cell_type": "code",
   "execution_count": 3,
   "metadata": {
    "collapsed": false
   },
   "outputs": [
    {
     "ename": "ConnectionError",
     "evalue": "HTTPSConnectionPool(host='api.nytimes.com', port=443): Max retries exceeded with url: /svc/search/v2/articlesearch.json?api-key=a1bd087e082c4da4b0e88a2bbc7cd93a?q=donald+trump (Caused by NewConnectionError('<requests.packages.urllib3.connection.VerifiedHTTPSConnection object at 0x10cdcfba8>: Failed to establish a new connection: [Errno 8] nodename nor servname provided, or not known',))",
     "output_type": "error",
     "traceback": [
      "\u001b[0;31m---------------------------------------------------------------------------\u001b[0m",
      "\u001b[0;31mgaierror\u001b[0m                                  Traceback (most recent call last)",
      "\u001b[0;32m/Users/Monica/.virtualenvs/dataanalysis/lib/python3.5/site-packages/requests/packages/urllib3/connection.py\u001b[0m in \u001b[0;36m_new_conn\u001b[0;34m(self)\u001b[0m\n\u001b[1;32m    141\u001b[0m             conn = connection.create_connection(\n\u001b[0;32m--> 142\u001b[0;31m                 (self.host, self.port), self.timeout, **extra_kw)\n\u001b[0m\u001b[1;32m    143\u001b[0m \u001b[0;34m\u001b[0m\u001b[0m\n",
      "\u001b[0;32m/Users/Monica/.virtualenvs/dataanalysis/lib/python3.5/site-packages/requests/packages/urllib3/util/connection.py\u001b[0m in \u001b[0;36mcreate_connection\u001b[0;34m(address, timeout, source_address, socket_options)\u001b[0m\n\u001b[1;32m     66\u001b[0m     \u001b[0merr\u001b[0m \u001b[0;34m=\u001b[0m \u001b[0;32mNone\u001b[0m\u001b[0;34m\u001b[0m\u001b[0m\n\u001b[0;32m---> 67\u001b[0;31m     \u001b[0;32mfor\u001b[0m \u001b[0mres\u001b[0m \u001b[0;32min\u001b[0m \u001b[0msocket\u001b[0m\u001b[0;34m.\u001b[0m\u001b[0mgetaddrinfo\u001b[0m\u001b[0;34m(\u001b[0m\u001b[0mhost\u001b[0m\u001b[0;34m,\u001b[0m \u001b[0mport\u001b[0m\u001b[0;34m,\u001b[0m \u001b[0;36m0\u001b[0m\u001b[0;34m,\u001b[0m \u001b[0msocket\u001b[0m\u001b[0;34m.\u001b[0m\u001b[0mSOCK_STREAM\u001b[0m\u001b[0;34m)\u001b[0m\u001b[0;34m:\u001b[0m\u001b[0;34m\u001b[0m\u001b[0m\n\u001b[0m\u001b[1;32m     68\u001b[0m         \u001b[0maf\u001b[0m\u001b[0;34m,\u001b[0m \u001b[0msocktype\u001b[0m\u001b[0;34m,\u001b[0m \u001b[0mproto\u001b[0m\u001b[0;34m,\u001b[0m \u001b[0mcanonname\u001b[0m\u001b[0;34m,\u001b[0m \u001b[0msa\u001b[0m \u001b[0;34m=\u001b[0m \u001b[0mres\u001b[0m\u001b[0;34m\u001b[0m\u001b[0m\n",
      "\u001b[0;32m/usr/local/Cellar/python3/3.5.1/Frameworks/Python.framework/Versions/3.5/lib/python3.5/socket.py\u001b[0m in \u001b[0;36mgetaddrinfo\u001b[0;34m(host, port, family, type, proto, flags)\u001b[0m\n\u001b[1;32m    731\u001b[0m     \u001b[0maddrlist\u001b[0m \u001b[0;34m=\u001b[0m \u001b[0;34m[\u001b[0m\u001b[0;34m]\u001b[0m\u001b[0;34m\u001b[0m\u001b[0m\n\u001b[0;32m--> 732\u001b[0;31m     \u001b[0;32mfor\u001b[0m \u001b[0mres\u001b[0m \u001b[0;32min\u001b[0m \u001b[0m_socket\u001b[0m\u001b[0;34m.\u001b[0m\u001b[0mgetaddrinfo\u001b[0m\u001b[0;34m(\u001b[0m\u001b[0mhost\u001b[0m\u001b[0;34m,\u001b[0m \u001b[0mport\u001b[0m\u001b[0;34m,\u001b[0m \u001b[0mfamily\u001b[0m\u001b[0;34m,\u001b[0m \u001b[0mtype\u001b[0m\u001b[0;34m,\u001b[0m \u001b[0mproto\u001b[0m\u001b[0;34m,\u001b[0m \u001b[0mflags\u001b[0m\u001b[0;34m)\u001b[0m\u001b[0;34m:\u001b[0m\u001b[0;34m\u001b[0m\u001b[0m\n\u001b[0m\u001b[1;32m    733\u001b[0m         \u001b[0maf\u001b[0m\u001b[0;34m,\u001b[0m \u001b[0msocktype\u001b[0m\u001b[0;34m,\u001b[0m \u001b[0mproto\u001b[0m\u001b[0;34m,\u001b[0m \u001b[0mcanonname\u001b[0m\u001b[0;34m,\u001b[0m \u001b[0msa\u001b[0m \u001b[0;34m=\u001b[0m \u001b[0mres\u001b[0m\u001b[0;34m\u001b[0m\u001b[0m\n",
      "\u001b[0;31mgaierror\u001b[0m: [Errno 8] nodename nor servname provided, or not known",
      "\nDuring handling of the above exception, another exception occurred:\n",
      "\u001b[0;31mNewConnectionError\u001b[0m                        Traceback (most recent call last)",
      "\u001b[0;32m/Users/Monica/.virtualenvs/dataanalysis/lib/python3.5/site-packages/requests/packages/urllib3/connectionpool.py\u001b[0m in \u001b[0;36murlopen\u001b[0;34m(self, method, url, body, headers, retries, redirect, assert_same_host, timeout, pool_timeout, release_conn, chunked, **response_kw)\u001b[0m\n\u001b[1;32m    577\u001b[0m                                                   \u001b[0mbody\u001b[0m\u001b[0;34m=\u001b[0m\u001b[0mbody\u001b[0m\u001b[0;34m,\u001b[0m \u001b[0mheaders\u001b[0m\u001b[0;34m=\u001b[0m\u001b[0mheaders\u001b[0m\u001b[0;34m,\u001b[0m\u001b[0;34m\u001b[0m\u001b[0m\n\u001b[0;32m--> 578\u001b[0;31m                                                   chunked=chunked)\n\u001b[0m\u001b[1;32m    579\u001b[0m \u001b[0;34m\u001b[0m\u001b[0m\n",
      "\u001b[0;32m/Users/Monica/.virtualenvs/dataanalysis/lib/python3.5/site-packages/requests/packages/urllib3/connectionpool.py\u001b[0m in \u001b[0;36m_make_request\u001b[0;34m(self, conn, method, url, timeout, chunked, **httplib_request_kw)\u001b[0m\n\u001b[1;32m    350\u001b[0m         \u001b[0;32mtry\u001b[0m\u001b[0;34m:\u001b[0m\u001b[0;34m\u001b[0m\u001b[0m\n\u001b[0;32m--> 351\u001b[0;31m             \u001b[0mself\u001b[0m\u001b[0;34m.\u001b[0m\u001b[0m_validate_conn\u001b[0m\u001b[0;34m(\u001b[0m\u001b[0mconn\u001b[0m\u001b[0;34m)\u001b[0m\u001b[0;34m\u001b[0m\u001b[0m\n\u001b[0m\u001b[1;32m    352\u001b[0m         \u001b[0;32mexcept\u001b[0m \u001b[0;34m(\u001b[0m\u001b[0mSocketTimeout\u001b[0m\u001b[0;34m,\u001b[0m \u001b[0mBaseSSLError\u001b[0m\u001b[0;34m)\u001b[0m \u001b[0;32mas\u001b[0m \u001b[0me\u001b[0m\u001b[0;34m:\u001b[0m\u001b[0;34m\u001b[0m\u001b[0m\n",
      "\u001b[0;32m/Users/Monica/.virtualenvs/dataanalysis/lib/python3.5/site-packages/requests/packages/urllib3/connectionpool.py\u001b[0m in \u001b[0;36m_validate_conn\u001b[0;34m(self, conn)\u001b[0m\n\u001b[1;32m    813\u001b[0m         \u001b[0;32mif\u001b[0m \u001b[0;32mnot\u001b[0m \u001b[0mgetattr\u001b[0m\u001b[0;34m(\u001b[0m\u001b[0mconn\u001b[0m\u001b[0;34m,\u001b[0m \u001b[0;34m'sock'\u001b[0m\u001b[0;34m,\u001b[0m \u001b[0;32mNone\u001b[0m\u001b[0;34m)\u001b[0m\u001b[0;34m:\u001b[0m  \u001b[0;31m# AppEngine might not have  `.sock`\u001b[0m\u001b[0;34m\u001b[0m\u001b[0m\n\u001b[0;32m--> 814\u001b[0;31m             \u001b[0mconn\u001b[0m\u001b[0;34m.\u001b[0m\u001b[0mconnect\u001b[0m\u001b[0;34m(\u001b[0m\u001b[0;34m)\u001b[0m\u001b[0;34m\u001b[0m\u001b[0m\n\u001b[0m\u001b[1;32m    815\u001b[0m \u001b[0;34m\u001b[0m\u001b[0m\n",
      "\u001b[0;32m/Users/Monica/.virtualenvs/dataanalysis/lib/python3.5/site-packages/requests/packages/urllib3/connection.py\u001b[0m in \u001b[0;36mconnect\u001b[0;34m(self)\u001b[0m\n\u001b[1;32m    253\u001b[0m         \u001b[0;31m# Add certificate verification\u001b[0m\u001b[0;34m\u001b[0m\u001b[0;34m\u001b[0m\u001b[0m\n\u001b[0;32m--> 254\u001b[0;31m         \u001b[0mconn\u001b[0m \u001b[0;34m=\u001b[0m \u001b[0mself\u001b[0m\u001b[0;34m.\u001b[0m\u001b[0m_new_conn\u001b[0m\u001b[0;34m(\u001b[0m\u001b[0;34m)\u001b[0m\u001b[0;34m\u001b[0m\u001b[0m\n\u001b[0m\u001b[1;32m    255\u001b[0m \u001b[0;34m\u001b[0m\u001b[0m\n",
      "\u001b[0;32m/Users/Monica/.virtualenvs/dataanalysis/lib/python3.5/site-packages/requests/packages/urllib3/connection.py\u001b[0m in \u001b[0;36m_new_conn\u001b[0;34m(self)\u001b[0m\n\u001b[1;32m    150\u001b[0m             raise NewConnectionError(\n\u001b[0;32m--> 151\u001b[0;31m                 self, \"Failed to establish a new connection: %s\" % e)\n\u001b[0m\u001b[1;32m    152\u001b[0m \u001b[0;34m\u001b[0m\u001b[0m\n",
      "\u001b[0;31mNewConnectionError\u001b[0m: <requests.packages.urllib3.connection.VerifiedHTTPSConnection object at 0x10cdcfba8>: Failed to establish a new connection: [Errno 8] nodename nor servname provided, or not known",
      "\nDuring handling of the above exception, another exception occurred:\n",
      "\u001b[0;31mMaxRetryError\u001b[0m                             Traceback (most recent call last)",
      "\u001b[0;32m/Users/Monica/.virtualenvs/dataanalysis/lib/python3.5/site-packages/requests/adapters.py\u001b[0m in \u001b[0;36msend\u001b[0;34m(self, request, stream, timeout, verify, cert, proxies)\u001b[0m\n\u001b[1;32m    402\u001b[0m                     \u001b[0mretries\u001b[0m\u001b[0;34m=\u001b[0m\u001b[0mself\u001b[0m\u001b[0;34m.\u001b[0m\u001b[0mmax_retries\u001b[0m\u001b[0;34m,\u001b[0m\u001b[0;34m\u001b[0m\u001b[0m\n\u001b[0;32m--> 403\u001b[0;31m                     \u001b[0mtimeout\u001b[0m\u001b[0;34m=\u001b[0m\u001b[0mtimeout\u001b[0m\u001b[0;34m\u001b[0m\u001b[0m\n\u001b[0m\u001b[1;32m    404\u001b[0m                 )\n",
      "\u001b[0;32m/Users/Monica/.virtualenvs/dataanalysis/lib/python3.5/site-packages/requests/packages/urllib3/connectionpool.py\u001b[0m in \u001b[0;36murlopen\u001b[0;34m(self, method, url, body, headers, retries, redirect, assert_same_host, timeout, pool_timeout, release_conn, chunked, **response_kw)\u001b[0m\n\u001b[1;32m    622\u001b[0m             retries = retries.increment(method, url, error=e, _pool=self,\n\u001b[0;32m--> 623\u001b[0;31m                                         _stacktrace=sys.exc_info()[2])\n\u001b[0m\u001b[1;32m    624\u001b[0m             \u001b[0mretries\u001b[0m\u001b[0;34m.\u001b[0m\u001b[0msleep\u001b[0m\u001b[0;34m(\u001b[0m\u001b[0;34m)\u001b[0m\u001b[0;34m\u001b[0m\u001b[0m\n",
      "\u001b[0;32m/Users/Monica/.virtualenvs/dataanalysis/lib/python3.5/site-packages/requests/packages/urllib3/util/retry.py\u001b[0m in \u001b[0;36mincrement\u001b[0;34m(self, method, url, response, error, _pool, _stacktrace)\u001b[0m\n\u001b[1;32m    280\u001b[0m         \u001b[0;32mif\u001b[0m \u001b[0mnew_retry\u001b[0m\u001b[0;34m.\u001b[0m\u001b[0mis_exhausted\u001b[0m\u001b[0;34m(\u001b[0m\u001b[0;34m)\u001b[0m\u001b[0;34m:\u001b[0m\u001b[0;34m\u001b[0m\u001b[0m\n\u001b[0;32m--> 281\u001b[0;31m             \u001b[0;32mraise\u001b[0m \u001b[0mMaxRetryError\u001b[0m\u001b[0;34m(\u001b[0m\u001b[0m_pool\u001b[0m\u001b[0;34m,\u001b[0m \u001b[0murl\u001b[0m\u001b[0;34m,\u001b[0m \u001b[0merror\u001b[0m \u001b[0;32mor\u001b[0m \u001b[0mResponseError\u001b[0m\u001b[0;34m(\u001b[0m\u001b[0mcause\u001b[0m\u001b[0;34m)\u001b[0m\u001b[0;34m)\u001b[0m\u001b[0;34m\u001b[0m\u001b[0m\n\u001b[0m\u001b[1;32m    282\u001b[0m \u001b[0;34m\u001b[0m\u001b[0m\n",
      "\u001b[0;31mMaxRetryError\u001b[0m: HTTPSConnectionPool(host='api.nytimes.com', port=443): Max retries exceeded with url: /svc/search/v2/articlesearch.json?api-key=a1bd087e082c4da4b0e88a2bbc7cd93a?q=donald+trump (Caused by NewConnectionError('<requests.packages.urllib3.connection.VerifiedHTTPSConnection object at 0x10cdcfba8>: Failed to establish a new connection: [Errno 8] nodename nor servname provided, or not known',))",
      "\nDuring handling of the above exception, another exception occurred:\n",
      "\u001b[0;31mConnectionError\u001b[0m                           Traceback (most recent call last)",
      "\u001b[0;32m<ipython-input-3-d271f1f63b08>\u001b[0m in \u001b[0;36m<module>\u001b[0;34m()\u001b[0m\n\u001b[1;32m      5\u001b[0m \u001b[0;34m\u001b[0m\u001b[0m\n\u001b[1;32m      6\u001b[0m \u001b[0;34m\u001b[0m\u001b[0m\n\u001b[0;32m----> 7\u001b[0;31m \u001b[0mresponse\u001b[0m \u001b[0;34m=\u001b[0m \u001b[0mrequests\u001b[0m\u001b[0;34m.\u001b[0m\u001b[0mget\u001b[0m\u001b[0;34m(\u001b[0m\u001b[0;34m'https://api.nytimes.com/svc/search/v2/articlesearch.json?api-key='\u001b[0m \u001b[0;34m+\u001b[0m \u001b[0mnyt_articles_api\u001b[0m \u001b[0;34m+\u001b[0m \u001b[0;34m'?q=donald+trump'\u001b[0m\u001b[0;34m)\u001b[0m\u001b[0;34m\u001b[0m\u001b[0m\n\u001b[0m\u001b[1;32m      8\u001b[0m \u001b[0mdata\u001b[0m \u001b[0;34m=\u001b[0m \u001b[0mresponse\u001b[0m\u001b[0;34m.\u001b[0m\u001b[0mjson\u001b[0m\u001b[0;34m(\u001b[0m\u001b[0;34m)\u001b[0m\u001b[0;34m\u001b[0m\u001b[0m\n",
      "\u001b[0;32m/Users/Monica/.virtualenvs/dataanalysis/lib/python3.5/site-packages/requests/api.py\u001b[0m in \u001b[0;36mget\u001b[0;34m(url, params, **kwargs)\u001b[0m\n\u001b[1;32m     69\u001b[0m \u001b[0;34m\u001b[0m\u001b[0m\n\u001b[1;32m     70\u001b[0m     \u001b[0mkwargs\u001b[0m\u001b[0;34m.\u001b[0m\u001b[0msetdefault\u001b[0m\u001b[0;34m(\u001b[0m\u001b[0;34m'allow_redirects'\u001b[0m\u001b[0;34m,\u001b[0m \u001b[0;32mTrue\u001b[0m\u001b[0;34m)\u001b[0m\u001b[0;34m\u001b[0m\u001b[0m\n\u001b[0;32m---> 71\u001b[0;31m     \u001b[0;32mreturn\u001b[0m \u001b[0mrequest\u001b[0m\u001b[0;34m(\u001b[0m\u001b[0;34m'get'\u001b[0m\u001b[0;34m,\u001b[0m \u001b[0murl\u001b[0m\u001b[0;34m,\u001b[0m \u001b[0mparams\u001b[0m\u001b[0;34m=\u001b[0m\u001b[0mparams\u001b[0m\u001b[0;34m,\u001b[0m \u001b[0;34m**\u001b[0m\u001b[0mkwargs\u001b[0m\u001b[0;34m)\u001b[0m\u001b[0;34m\u001b[0m\u001b[0m\n\u001b[0m\u001b[1;32m     72\u001b[0m \u001b[0;34m\u001b[0m\u001b[0m\n\u001b[1;32m     73\u001b[0m \u001b[0;34m\u001b[0m\u001b[0m\n",
      "\u001b[0;32m/Users/Monica/.virtualenvs/dataanalysis/lib/python3.5/site-packages/requests/api.py\u001b[0m in \u001b[0;36mrequest\u001b[0;34m(method, url, **kwargs)\u001b[0m\n\u001b[1;32m     55\u001b[0m     \u001b[0;31m# cases, and look like a memory leak in others.\u001b[0m\u001b[0;34m\u001b[0m\u001b[0;34m\u001b[0m\u001b[0m\n\u001b[1;32m     56\u001b[0m     \u001b[0;32mwith\u001b[0m \u001b[0msessions\u001b[0m\u001b[0;34m.\u001b[0m\u001b[0mSession\u001b[0m\u001b[0;34m(\u001b[0m\u001b[0;34m)\u001b[0m \u001b[0;32mas\u001b[0m \u001b[0msession\u001b[0m\u001b[0;34m:\u001b[0m\u001b[0;34m\u001b[0m\u001b[0m\n\u001b[0;32m---> 57\u001b[0;31m         \u001b[0;32mreturn\u001b[0m \u001b[0msession\u001b[0m\u001b[0;34m.\u001b[0m\u001b[0mrequest\u001b[0m\u001b[0;34m(\u001b[0m\u001b[0mmethod\u001b[0m\u001b[0;34m=\u001b[0m\u001b[0mmethod\u001b[0m\u001b[0;34m,\u001b[0m \u001b[0murl\u001b[0m\u001b[0;34m=\u001b[0m\u001b[0murl\u001b[0m\u001b[0;34m,\u001b[0m \u001b[0;34m**\u001b[0m\u001b[0mkwargs\u001b[0m\u001b[0;34m)\u001b[0m\u001b[0;34m\u001b[0m\u001b[0m\n\u001b[0m\u001b[1;32m     58\u001b[0m \u001b[0;34m\u001b[0m\u001b[0m\n\u001b[1;32m     59\u001b[0m \u001b[0;34m\u001b[0m\u001b[0m\n",
      "\u001b[0;32m/Users/Monica/.virtualenvs/dataanalysis/lib/python3.5/site-packages/requests/sessions.py\u001b[0m in \u001b[0;36mrequest\u001b[0;34m(self, method, url, params, data, headers, cookies, files, auth, timeout, allow_redirects, proxies, hooks, stream, verify, cert, json)\u001b[0m\n\u001b[1;32m    473\u001b[0m         }\n\u001b[1;32m    474\u001b[0m         \u001b[0msend_kwargs\u001b[0m\u001b[0;34m.\u001b[0m\u001b[0mupdate\u001b[0m\u001b[0;34m(\u001b[0m\u001b[0msettings\u001b[0m\u001b[0;34m)\u001b[0m\u001b[0;34m\u001b[0m\u001b[0m\n\u001b[0;32m--> 475\u001b[0;31m         \u001b[0mresp\u001b[0m \u001b[0;34m=\u001b[0m \u001b[0mself\u001b[0m\u001b[0;34m.\u001b[0m\u001b[0msend\u001b[0m\u001b[0;34m(\u001b[0m\u001b[0mprep\u001b[0m\u001b[0;34m,\u001b[0m \u001b[0;34m**\u001b[0m\u001b[0msend_kwargs\u001b[0m\u001b[0;34m)\u001b[0m\u001b[0;34m\u001b[0m\u001b[0m\n\u001b[0m\u001b[1;32m    476\u001b[0m \u001b[0;34m\u001b[0m\u001b[0m\n\u001b[1;32m    477\u001b[0m         \u001b[0;32mreturn\u001b[0m \u001b[0mresp\u001b[0m\u001b[0;34m\u001b[0m\u001b[0m\n",
      "\u001b[0;32m/Users/Monica/.virtualenvs/dataanalysis/lib/python3.5/site-packages/requests/sessions.py\u001b[0m in \u001b[0;36msend\u001b[0;34m(self, request, **kwargs)\u001b[0m\n\u001b[1;32m    583\u001b[0m \u001b[0;34m\u001b[0m\u001b[0m\n\u001b[1;32m    584\u001b[0m         \u001b[0;31m# Send the request\u001b[0m\u001b[0;34m\u001b[0m\u001b[0;34m\u001b[0m\u001b[0m\n\u001b[0;32m--> 585\u001b[0;31m         \u001b[0mr\u001b[0m \u001b[0;34m=\u001b[0m \u001b[0madapter\u001b[0m\u001b[0;34m.\u001b[0m\u001b[0msend\u001b[0m\u001b[0;34m(\u001b[0m\u001b[0mrequest\u001b[0m\u001b[0;34m,\u001b[0m \u001b[0;34m**\u001b[0m\u001b[0mkwargs\u001b[0m\u001b[0;34m)\u001b[0m\u001b[0;34m\u001b[0m\u001b[0m\n\u001b[0m\u001b[1;32m    586\u001b[0m \u001b[0;34m\u001b[0m\u001b[0m\n\u001b[1;32m    587\u001b[0m         \u001b[0;31m# Total elapsed time of the request (approximately)\u001b[0m\u001b[0;34m\u001b[0m\u001b[0;34m\u001b[0m\u001b[0m\n",
      "\u001b[0;32m/Users/Monica/.virtualenvs/dataanalysis/lib/python3.5/site-packages/requests/adapters.py\u001b[0m in \u001b[0;36msend\u001b[0;34m(self, request, stream, timeout, verify, cert, proxies)\u001b[0m\n\u001b[1;32m    465\u001b[0m                 \u001b[0;32mraise\u001b[0m \u001b[0mProxyError\u001b[0m\u001b[0;34m(\u001b[0m\u001b[0me\u001b[0m\u001b[0;34m,\u001b[0m \u001b[0mrequest\u001b[0m\u001b[0;34m=\u001b[0m\u001b[0mrequest\u001b[0m\u001b[0;34m)\u001b[0m\u001b[0;34m\u001b[0m\u001b[0m\n\u001b[1;32m    466\u001b[0m \u001b[0;34m\u001b[0m\u001b[0m\n\u001b[0;32m--> 467\u001b[0;31m             \u001b[0;32mraise\u001b[0m \u001b[0mConnectionError\u001b[0m\u001b[0;34m(\u001b[0m\u001b[0me\u001b[0m\u001b[0;34m,\u001b[0m \u001b[0mrequest\u001b[0m\u001b[0;34m=\u001b[0m\u001b[0mrequest\u001b[0m\u001b[0;34m)\u001b[0m\u001b[0;34m\u001b[0m\u001b[0m\n\u001b[0m\u001b[1;32m    468\u001b[0m \u001b[0;34m\u001b[0m\u001b[0m\n\u001b[1;32m    469\u001b[0m         \u001b[0;32mexcept\u001b[0m \u001b[0mClosedPoolError\u001b[0m \u001b[0;32mas\u001b[0m \u001b[0me\u001b[0m\u001b[0;34m:\u001b[0m\u001b[0;34m\u001b[0m\u001b[0m\n",
      "\u001b[0;31mConnectionError\u001b[0m: HTTPSConnectionPool(host='api.nytimes.com', port=443): Max retries exceeded with url: /svc/search/v2/articlesearch.json?api-key=a1bd087e082c4da4b0e88a2bbc7cd93a?q=donald+trump (Caused by NewConnectionError('<requests.packages.urllib3.connection.VerifiedHTTPSConnection object at 0x10cdcfba8>: Failed to establish a new connection: [Errno 8] nodename nor servname provided, or not known',))"
     ]
    }
   ],
   "source": [
    "#imports key from config file\n",
    "nyt_articles_api = config.nyt_articles_api\n",
    "nyt_books_api = config.nyt_books_api\n",
    "nyt_movie_api = config.nyt_movie_api \n",
    "\n",
    "\n",
    "response = requests.get('https://api.nytimes.com/svc/search/v2/articlesearch.json?api-key=' + nyt_articles_api + '?q=donald+trump')\n",
    "data = response.json()"
   ]
  },
  {
   "cell_type": "code",
   "execution_count": null,
   "metadata": {
    "collapsed": false
   },
   "outputs": [],
   "source": [
    "data.keys()"
   ]
  },
  {
   "cell_type": "code",
   "execution_count": null,
   "metadata": {
    "collapsed": true
   },
   "outputs": [],
   "source": []
  },
  {
   "cell_type": "code",
   "execution_count": null,
   "metadata": {
    "collapsed": false
   },
   "outputs": [],
   "source": [
    "data['response']"
   ]
  },
  {
   "cell_type": "code",
   "execution_count": null,
   "metadata": {
    "collapsed": false
   },
   "outputs": [],
   "source": [
    "data['response']['docs']"
   ]
  },
  {
   "cell_type": "code",
   "execution_count": null,
   "metadata": {
    "collapsed": false
   },
   "outputs": [],
   "source": [
    "#for item in data['response']['docs']:\n",
    " #   print(item)"
   ]
  },
  {
   "cell_type": "code",
   "execution_count": 5,
   "metadata": {
    "collapsed": false
   },
   "outputs": [
    {
     "name": "stderr",
     "output_type": "stream",
     "text": [
      "/Users/Monica/.virtualenvs/dataanalysis/lib/python3.5/site-packages/matplotlib/__init__.py:1035: UserWarning: Duplicate key in file \"/Users/Monica/.matplotlib/matplotlibrc\", line #2\n",
      "  (fname, cnt))\n"
     ]
    }
   ],
   "source": [
    "import pandas as pd"
   ]
  },
  {
   "cell_type": "code",
   "execution_count": 6,
   "metadata": {
    "collapsed": false
   },
   "outputs": [
    {
     "name": "stdout",
     "output_type": "stream",
     "text": [
      "There were 6 mentions of Twitter in 2006\n",
      "There were 38 mentions of Twitter in 2007\n",
      "There were 415 mentions of Twitter in 2008\n",
      "There were 2738 mentions of Twitter in 2009\n",
      "There were 3752 mentions of Twitter in 2010\n",
      "There were 6839 mentions of Twitter in 2011\n",
      "There were 7843 mentions of Twitter in 2012\n",
      "There were 7134 mentions of Twitter in 2013\n",
      "There were 13368 mentions of Twitter in 2014\n",
      "There were 13883 mentions of Twitter in 2015\n",
      "There were 9533 mentions of Twitter in 2016\n",
      "There were 117 mentions of Facebook in 2006\n",
      "There were 553 mentions of Facebook in 2007\n",
      "There were 961 mentions of Facebook in 2008\n",
      "There were 2249 mentions of Facebook in 2009\n",
      "There were 3287 mentions of Facebook in 2010\n",
      "There were 5918 mentions of Facebook in 2011\n",
      "There were 6177 mentions of Facebook in 2012\n",
      "There were 5057 mentions of Facebook in 2013\n",
      "There were 8203 mentions of Facebook in 2014\n",
      "There were 10289 mentions of Facebook in 2015\n",
      "There were 6790 mentions of Facebook in 2016\n",
      "There were 0 mentions of Instagram in 2006\n",
      "There were 0 mentions of Instagram in 2007\n",
      "There were 0 mentions of Instagram in 2008\n",
      "There were 0 mentions of Instagram in 2009\n",
      "There were 9 mentions of Instagram in 2010\n",
      "There were 76 mentions of Instagram in 2011\n",
      "There were 496 mentions of Instagram in 2012\n",
      "There were 702 mentions of Instagram in 2013\n",
      "There were 1545 mentions of Instagram in 2014\n"
     ]
    },
    {
     "ename": "KeyboardInterrupt",
     "evalue": "",
     "output_type": "error",
     "traceback": [
      "\u001b[0;31m---------------------------------------------------------------------------\u001b[0m",
      "\u001b[0;31mTypeError\u001b[0m                                 Traceback (most recent call last)",
      "\u001b[0;32m/Users/Monica/.virtualenvs/dataanalysis/lib/python3.5/site-packages/requests/packages/urllib3/connectionpool.py\u001b[0m in \u001b[0;36m_make_request\u001b[0;34m(self, conn, method, url, timeout, chunked, **httplib_request_kw)\u001b[0m\n\u001b[1;32m    384\u001b[0m             \u001b[0;32mtry\u001b[0m\u001b[0;34m:\u001b[0m  \u001b[0;31m# Python 2.7, use buffering of HTTP responses\u001b[0m\u001b[0;34m\u001b[0m\u001b[0m\n\u001b[0;32m--> 385\u001b[0;31m                 \u001b[0mhttplib_response\u001b[0m \u001b[0;34m=\u001b[0m \u001b[0mconn\u001b[0m\u001b[0;34m.\u001b[0m\u001b[0mgetresponse\u001b[0m\u001b[0;34m(\u001b[0m\u001b[0mbuffering\u001b[0m\u001b[0;34m=\u001b[0m\u001b[0;32mTrue\u001b[0m\u001b[0;34m)\u001b[0m\u001b[0;34m\u001b[0m\u001b[0m\n\u001b[0m\u001b[1;32m    386\u001b[0m             \u001b[0;32mexcept\u001b[0m \u001b[0mTypeError\u001b[0m\u001b[0;34m:\u001b[0m  \u001b[0;31m# Python 2.6 and older\u001b[0m\u001b[0;34m\u001b[0m\u001b[0m\n",
      "\u001b[0;31mTypeError\u001b[0m: getresponse() got an unexpected keyword argument 'buffering'",
      "\nDuring handling of the above exception, another exception occurred:\n",
      "\u001b[0;31mKeyboardInterrupt\u001b[0m                         Traceback (most recent call last)",
      "\u001b[0;32m<ipython-input-6-d461f655ae4a>\u001b[0m in \u001b[0;36m<module>\u001b[0;34m()\u001b[0m\n\u001b[1;32m     23\u001b[0m \u001b[0;34m\u001b[0m\u001b[0m\n\u001b[1;32m     24\u001b[0m \u001b[0;34m\u001b[0m\u001b[0m\n\u001b[0;32m---> 25\u001b[0;31m         \u001b[0mresponse\u001b[0m \u001b[0;34m=\u001b[0m \u001b[0mrequests\u001b[0m\u001b[0;34m.\u001b[0m\u001b[0mget\u001b[0m\u001b[0;34m(\u001b[0m\u001b[0;34m'https://api.nytimes.com/svc/search/v2/articlesearch.json?api-key='\u001b[0m \u001b[0;34m+\u001b[0m \u001b[0mnyt_articles_api\u001b[0m \u001b[0;34m+\u001b[0m \u001b[0;34m'&q='\u001b[0m \u001b[0;34m+\u001b[0m \u001b[0msocial\u001b[0m \u001b[0;34m+\u001b[0m \u001b[0;34m'&begin_date='\u001b[0m \u001b[0;34m+\u001b[0m  \u001b[0mstr\u001b[0m\u001b[0;34m(\u001b[0m\u001b[0mstart_date\u001b[0m\u001b[0;34m)\u001b[0m   \u001b[0;34m+\u001b[0m \u001b[0;34m'&end_date='\u001b[0m \u001b[0;34m+\u001b[0m  \u001b[0mstr\u001b[0m\u001b[0;34m(\u001b[0m\u001b[0mend_date\u001b[0m\u001b[0;34m)\u001b[0m\u001b[0;34m+\u001b[0m \u001b[0;34m'&sort=oldest'\u001b[0m\u001b[0;34m)\u001b[0m\u001b[0;34m\u001b[0m\u001b[0m\n\u001b[0m\u001b[1;32m     26\u001b[0m \u001b[0;34m\u001b[0m\u001b[0m\n\u001b[1;32m     27\u001b[0m         \u001b[0msocial_data\u001b[0m \u001b[0;34m=\u001b[0m \u001b[0mresponse\u001b[0m\u001b[0;34m.\u001b[0m\u001b[0mjson\u001b[0m\u001b[0;34m(\u001b[0m\u001b[0;34m)\u001b[0m\u001b[0;34m\u001b[0m\u001b[0m\n",
      "\u001b[0;32m/Users/Monica/.virtualenvs/dataanalysis/lib/python3.5/site-packages/requests/api.py\u001b[0m in \u001b[0;36mget\u001b[0;34m(url, params, **kwargs)\u001b[0m\n\u001b[1;32m     69\u001b[0m \u001b[0;34m\u001b[0m\u001b[0m\n\u001b[1;32m     70\u001b[0m     \u001b[0mkwargs\u001b[0m\u001b[0;34m.\u001b[0m\u001b[0msetdefault\u001b[0m\u001b[0;34m(\u001b[0m\u001b[0;34m'allow_redirects'\u001b[0m\u001b[0;34m,\u001b[0m \u001b[0;32mTrue\u001b[0m\u001b[0;34m)\u001b[0m\u001b[0;34m\u001b[0m\u001b[0m\n\u001b[0;32m---> 71\u001b[0;31m     \u001b[0;32mreturn\u001b[0m \u001b[0mrequest\u001b[0m\u001b[0;34m(\u001b[0m\u001b[0;34m'get'\u001b[0m\u001b[0;34m,\u001b[0m \u001b[0murl\u001b[0m\u001b[0;34m,\u001b[0m \u001b[0mparams\u001b[0m\u001b[0;34m=\u001b[0m\u001b[0mparams\u001b[0m\u001b[0;34m,\u001b[0m \u001b[0;34m**\u001b[0m\u001b[0mkwargs\u001b[0m\u001b[0;34m)\u001b[0m\u001b[0;34m\u001b[0m\u001b[0m\n\u001b[0m\u001b[1;32m     72\u001b[0m \u001b[0;34m\u001b[0m\u001b[0m\n\u001b[1;32m     73\u001b[0m \u001b[0;34m\u001b[0m\u001b[0m\n",
      "\u001b[0;32m/Users/Monica/.virtualenvs/dataanalysis/lib/python3.5/site-packages/requests/api.py\u001b[0m in \u001b[0;36mrequest\u001b[0;34m(method, url, **kwargs)\u001b[0m\n\u001b[1;32m     55\u001b[0m     \u001b[0;31m# cases, and look like a memory leak in others.\u001b[0m\u001b[0;34m\u001b[0m\u001b[0;34m\u001b[0m\u001b[0m\n\u001b[1;32m     56\u001b[0m     \u001b[0;32mwith\u001b[0m \u001b[0msessions\u001b[0m\u001b[0;34m.\u001b[0m\u001b[0mSession\u001b[0m\u001b[0;34m(\u001b[0m\u001b[0;34m)\u001b[0m \u001b[0;32mas\u001b[0m \u001b[0msession\u001b[0m\u001b[0;34m:\u001b[0m\u001b[0;34m\u001b[0m\u001b[0m\n\u001b[0;32m---> 57\u001b[0;31m         \u001b[0;32mreturn\u001b[0m \u001b[0msession\u001b[0m\u001b[0;34m.\u001b[0m\u001b[0mrequest\u001b[0m\u001b[0;34m(\u001b[0m\u001b[0mmethod\u001b[0m\u001b[0;34m=\u001b[0m\u001b[0mmethod\u001b[0m\u001b[0;34m,\u001b[0m \u001b[0murl\u001b[0m\u001b[0;34m=\u001b[0m\u001b[0murl\u001b[0m\u001b[0;34m,\u001b[0m \u001b[0;34m**\u001b[0m\u001b[0mkwargs\u001b[0m\u001b[0;34m)\u001b[0m\u001b[0;34m\u001b[0m\u001b[0m\n\u001b[0m\u001b[1;32m     58\u001b[0m \u001b[0;34m\u001b[0m\u001b[0m\n\u001b[1;32m     59\u001b[0m \u001b[0;34m\u001b[0m\u001b[0m\n",
      "\u001b[0;32m/Users/Monica/.virtualenvs/dataanalysis/lib/python3.5/site-packages/requests/sessions.py\u001b[0m in \u001b[0;36mrequest\u001b[0;34m(self, method, url, params, data, headers, cookies, files, auth, timeout, allow_redirects, proxies, hooks, stream, verify, cert, json)\u001b[0m\n\u001b[1;32m    473\u001b[0m         }\n\u001b[1;32m    474\u001b[0m         \u001b[0msend_kwargs\u001b[0m\u001b[0;34m.\u001b[0m\u001b[0mupdate\u001b[0m\u001b[0;34m(\u001b[0m\u001b[0msettings\u001b[0m\u001b[0;34m)\u001b[0m\u001b[0;34m\u001b[0m\u001b[0m\n\u001b[0;32m--> 475\u001b[0;31m         \u001b[0mresp\u001b[0m \u001b[0;34m=\u001b[0m \u001b[0mself\u001b[0m\u001b[0;34m.\u001b[0m\u001b[0msend\u001b[0m\u001b[0;34m(\u001b[0m\u001b[0mprep\u001b[0m\u001b[0;34m,\u001b[0m \u001b[0;34m**\u001b[0m\u001b[0msend_kwargs\u001b[0m\u001b[0;34m)\u001b[0m\u001b[0;34m\u001b[0m\u001b[0m\n\u001b[0m\u001b[1;32m    476\u001b[0m \u001b[0;34m\u001b[0m\u001b[0m\n\u001b[1;32m    477\u001b[0m         \u001b[0;32mreturn\u001b[0m \u001b[0mresp\u001b[0m\u001b[0;34m\u001b[0m\u001b[0m\n",
      "\u001b[0;32m/Users/Monica/.virtualenvs/dataanalysis/lib/python3.5/site-packages/requests/sessions.py\u001b[0m in \u001b[0;36msend\u001b[0;34m(self, request, **kwargs)\u001b[0m\n\u001b[1;32m    583\u001b[0m \u001b[0;34m\u001b[0m\u001b[0m\n\u001b[1;32m    584\u001b[0m         \u001b[0;31m# Send the request\u001b[0m\u001b[0;34m\u001b[0m\u001b[0;34m\u001b[0m\u001b[0m\n\u001b[0;32m--> 585\u001b[0;31m         \u001b[0mr\u001b[0m \u001b[0;34m=\u001b[0m \u001b[0madapter\u001b[0m\u001b[0;34m.\u001b[0m\u001b[0msend\u001b[0m\u001b[0;34m(\u001b[0m\u001b[0mrequest\u001b[0m\u001b[0;34m,\u001b[0m \u001b[0;34m**\u001b[0m\u001b[0mkwargs\u001b[0m\u001b[0;34m)\u001b[0m\u001b[0;34m\u001b[0m\u001b[0m\n\u001b[0m\u001b[1;32m    586\u001b[0m \u001b[0;34m\u001b[0m\u001b[0m\n\u001b[1;32m    587\u001b[0m         \u001b[0;31m# Total elapsed time of the request (approximately)\u001b[0m\u001b[0;34m\u001b[0m\u001b[0;34m\u001b[0m\u001b[0m\n",
      "\u001b[0;32m/Users/Monica/.virtualenvs/dataanalysis/lib/python3.5/site-packages/requests/adapters.py\u001b[0m in \u001b[0;36msend\u001b[0;34m(self, request, stream, timeout, verify, cert, proxies)\u001b[0m\n\u001b[1;32m    401\u001b[0m                     \u001b[0mdecode_content\u001b[0m\u001b[0;34m=\u001b[0m\u001b[0;32mFalse\u001b[0m\u001b[0;34m,\u001b[0m\u001b[0;34m\u001b[0m\u001b[0m\n\u001b[1;32m    402\u001b[0m                     \u001b[0mretries\u001b[0m\u001b[0;34m=\u001b[0m\u001b[0mself\u001b[0m\u001b[0;34m.\u001b[0m\u001b[0mmax_retries\u001b[0m\u001b[0;34m,\u001b[0m\u001b[0;34m\u001b[0m\u001b[0m\n\u001b[0;32m--> 403\u001b[0;31m                     \u001b[0mtimeout\u001b[0m\u001b[0;34m=\u001b[0m\u001b[0mtimeout\u001b[0m\u001b[0;34m\u001b[0m\u001b[0m\n\u001b[0m\u001b[1;32m    404\u001b[0m                 )\n\u001b[1;32m    405\u001b[0m \u001b[0;34m\u001b[0m\u001b[0m\n",
      "\u001b[0;32m/Users/Monica/.virtualenvs/dataanalysis/lib/python3.5/site-packages/requests/packages/urllib3/connectionpool.py\u001b[0m in \u001b[0;36murlopen\u001b[0;34m(self, method, url, body, headers, retries, redirect, assert_same_host, timeout, pool_timeout, release_conn, chunked, **response_kw)\u001b[0m\n\u001b[1;32m    576\u001b[0m                                                   \u001b[0mtimeout\u001b[0m\u001b[0;34m=\u001b[0m\u001b[0mtimeout_obj\u001b[0m\u001b[0;34m,\u001b[0m\u001b[0;34m\u001b[0m\u001b[0m\n\u001b[1;32m    577\u001b[0m                                                   \u001b[0mbody\u001b[0m\u001b[0;34m=\u001b[0m\u001b[0mbody\u001b[0m\u001b[0;34m,\u001b[0m \u001b[0mheaders\u001b[0m\u001b[0;34m=\u001b[0m\u001b[0mheaders\u001b[0m\u001b[0;34m,\u001b[0m\u001b[0;34m\u001b[0m\u001b[0m\n\u001b[0;32m--> 578\u001b[0;31m                                                   chunked=chunked)\n\u001b[0m\u001b[1;32m    579\u001b[0m \u001b[0;34m\u001b[0m\u001b[0m\n\u001b[1;32m    580\u001b[0m             \u001b[0;31m# If we're going to release the connection in ``finally:``, then\u001b[0m\u001b[0;34m\u001b[0m\u001b[0;34m\u001b[0m\u001b[0m\n",
      "\u001b[0;32m/Users/Monica/.virtualenvs/dataanalysis/lib/python3.5/site-packages/requests/packages/urllib3/connectionpool.py\u001b[0m in \u001b[0;36m_make_request\u001b[0;34m(self, conn, method, url, timeout, chunked, **httplib_request_kw)\u001b[0m\n\u001b[1;32m    385\u001b[0m                 \u001b[0mhttplib_response\u001b[0m \u001b[0;34m=\u001b[0m \u001b[0mconn\u001b[0m\u001b[0;34m.\u001b[0m\u001b[0mgetresponse\u001b[0m\u001b[0;34m(\u001b[0m\u001b[0mbuffering\u001b[0m\u001b[0;34m=\u001b[0m\u001b[0;32mTrue\u001b[0m\u001b[0;34m)\u001b[0m\u001b[0;34m\u001b[0m\u001b[0m\n\u001b[1;32m    386\u001b[0m             \u001b[0;32mexcept\u001b[0m \u001b[0mTypeError\u001b[0m\u001b[0;34m:\u001b[0m  \u001b[0;31m# Python 2.6 and older\u001b[0m\u001b[0;34m\u001b[0m\u001b[0m\n\u001b[0;32m--> 387\u001b[0;31m                 \u001b[0mhttplib_response\u001b[0m \u001b[0;34m=\u001b[0m \u001b[0mconn\u001b[0m\u001b[0;34m.\u001b[0m\u001b[0mgetresponse\u001b[0m\u001b[0;34m(\u001b[0m\u001b[0;34m)\u001b[0m\u001b[0;34m\u001b[0m\u001b[0m\n\u001b[0m\u001b[1;32m    388\u001b[0m         \u001b[0;32mexcept\u001b[0m \u001b[0;34m(\u001b[0m\u001b[0mSocketTimeout\u001b[0m\u001b[0;34m,\u001b[0m \u001b[0mBaseSSLError\u001b[0m\u001b[0;34m,\u001b[0m \u001b[0mSocketError\u001b[0m\u001b[0;34m)\u001b[0m \u001b[0;32mas\u001b[0m \u001b[0me\u001b[0m\u001b[0;34m:\u001b[0m\u001b[0;34m\u001b[0m\u001b[0m\n\u001b[1;32m    389\u001b[0m             \u001b[0mself\u001b[0m\u001b[0;34m.\u001b[0m\u001b[0m_raise_timeout\u001b[0m\u001b[0;34m(\u001b[0m\u001b[0merr\u001b[0m\u001b[0;34m=\u001b[0m\u001b[0me\u001b[0m\u001b[0;34m,\u001b[0m \u001b[0murl\u001b[0m\u001b[0;34m=\u001b[0m\u001b[0murl\u001b[0m\u001b[0;34m,\u001b[0m \u001b[0mtimeout_value\u001b[0m\u001b[0;34m=\u001b[0m\u001b[0mread_timeout\u001b[0m\u001b[0;34m)\u001b[0m\u001b[0;34m\u001b[0m\u001b[0m\n",
      "\u001b[0;32m/usr/local/Cellar/python3/3.5.1/Frameworks/Python.framework/Versions/3.5/lib/python3.5/http/client.py\u001b[0m in \u001b[0;36mgetresponse\u001b[0;34m(self)\u001b[0m\n\u001b[1;32m   1172\u001b[0m         \u001b[0;32mtry\u001b[0m\u001b[0;34m:\u001b[0m\u001b[0;34m\u001b[0m\u001b[0m\n\u001b[1;32m   1173\u001b[0m             \u001b[0;32mtry\u001b[0m\u001b[0;34m:\u001b[0m\u001b[0;34m\u001b[0m\u001b[0m\n\u001b[0;32m-> 1174\u001b[0;31m                 \u001b[0mresponse\u001b[0m\u001b[0;34m.\u001b[0m\u001b[0mbegin\u001b[0m\u001b[0;34m(\u001b[0m\u001b[0;34m)\u001b[0m\u001b[0;34m\u001b[0m\u001b[0m\n\u001b[0m\u001b[1;32m   1175\u001b[0m             \u001b[0;32mexcept\u001b[0m \u001b[0mConnectionError\u001b[0m\u001b[0;34m:\u001b[0m\u001b[0;34m\u001b[0m\u001b[0m\n\u001b[1;32m   1176\u001b[0m                 \u001b[0mself\u001b[0m\u001b[0;34m.\u001b[0m\u001b[0mclose\u001b[0m\u001b[0;34m(\u001b[0m\u001b[0;34m)\u001b[0m\u001b[0;34m\u001b[0m\u001b[0m\n",
      "\u001b[0;32m/usr/local/Cellar/python3/3.5.1/Frameworks/Python.framework/Versions/3.5/lib/python3.5/http/client.py\u001b[0m in \u001b[0;36mbegin\u001b[0;34m(self)\u001b[0m\n\u001b[1;32m    280\u001b[0m         \u001b[0;31m# read until we get a non-100 response\u001b[0m\u001b[0;34m\u001b[0m\u001b[0;34m\u001b[0m\u001b[0m\n\u001b[1;32m    281\u001b[0m         \u001b[0;32mwhile\u001b[0m \u001b[0;32mTrue\u001b[0m\u001b[0;34m:\u001b[0m\u001b[0;34m\u001b[0m\u001b[0m\n\u001b[0;32m--> 282\u001b[0;31m             \u001b[0mversion\u001b[0m\u001b[0;34m,\u001b[0m \u001b[0mstatus\u001b[0m\u001b[0;34m,\u001b[0m \u001b[0mreason\u001b[0m \u001b[0;34m=\u001b[0m \u001b[0mself\u001b[0m\u001b[0;34m.\u001b[0m\u001b[0m_read_status\u001b[0m\u001b[0;34m(\u001b[0m\u001b[0;34m)\u001b[0m\u001b[0;34m\u001b[0m\u001b[0m\n\u001b[0m\u001b[1;32m    283\u001b[0m             \u001b[0;32mif\u001b[0m \u001b[0mstatus\u001b[0m \u001b[0;34m!=\u001b[0m \u001b[0mCONTINUE\u001b[0m\u001b[0;34m:\u001b[0m\u001b[0;34m\u001b[0m\u001b[0m\n\u001b[1;32m    284\u001b[0m                 \u001b[0;32mbreak\u001b[0m\u001b[0;34m\u001b[0m\u001b[0m\n",
      "\u001b[0;32m/usr/local/Cellar/python3/3.5.1/Frameworks/Python.framework/Versions/3.5/lib/python3.5/http/client.py\u001b[0m in \u001b[0;36m_read_status\u001b[0;34m(self)\u001b[0m\n\u001b[1;32m    241\u001b[0m \u001b[0;34m\u001b[0m\u001b[0m\n\u001b[1;32m    242\u001b[0m     \u001b[0;32mdef\u001b[0m \u001b[0m_read_status\u001b[0m\u001b[0;34m(\u001b[0m\u001b[0mself\u001b[0m\u001b[0;34m)\u001b[0m\u001b[0;34m:\u001b[0m\u001b[0;34m\u001b[0m\u001b[0m\n\u001b[0;32m--> 243\u001b[0;31m         \u001b[0mline\u001b[0m \u001b[0;34m=\u001b[0m \u001b[0mstr\u001b[0m\u001b[0;34m(\u001b[0m\u001b[0mself\u001b[0m\u001b[0;34m.\u001b[0m\u001b[0mfp\u001b[0m\u001b[0;34m.\u001b[0m\u001b[0mreadline\u001b[0m\u001b[0;34m(\u001b[0m\u001b[0m_MAXLINE\u001b[0m \u001b[0;34m+\u001b[0m \u001b[0;36m1\u001b[0m\u001b[0;34m)\u001b[0m\u001b[0;34m,\u001b[0m \u001b[0;34m\"iso-8859-1\"\u001b[0m\u001b[0;34m)\u001b[0m\u001b[0;34m\u001b[0m\u001b[0m\n\u001b[0m\u001b[1;32m    244\u001b[0m         \u001b[0;32mif\u001b[0m \u001b[0mlen\u001b[0m\u001b[0;34m(\u001b[0m\u001b[0mline\u001b[0m\u001b[0;34m)\u001b[0m \u001b[0;34m>\u001b[0m \u001b[0m_MAXLINE\u001b[0m\u001b[0;34m:\u001b[0m\u001b[0;34m\u001b[0m\u001b[0m\n\u001b[1;32m    245\u001b[0m             \u001b[0;32mraise\u001b[0m \u001b[0mLineTooLong\u001b[0m\u001b[0;34m(\u001b[0m\u001b[0;34m\"status line\"\u001b[0m\u001b[0;34m)\u001b[0m\u001b[0;34m\u001b[0m\u001b[0m\n",
      "\u001b[0;32m/usr/local/Cellar/python3/3.5.1/Frameworks/Python.framework/Versions/3.5/lib/python3.5/socket.py\u001b[0m in \u001b[0;36mreadinto\u001b[0;34m(self, b)\u001b[0m\n\u001b[1;32m    573\u001b[0m         \u001b[0;32mwhile\u001b[0m \u001b[0;32mTrue\u001b[0m\u001b[0;34m:\u001b[0m\u001b[0;34m\u001b[0m\u001b[0m\n\u001b[1;32m    574\u001b[0m             \u001b[0;32mtry\u001b[0m\u001b[0;34m:\u001b[0m\u001b[0;34m\u001b[0m\u001b[0m\n\u001b[0;32m--> 575\u001b[0;31m                 \u001b[0;32mreturn\u001b[0m \u001b[0mself\u001b[0m\u001b[0;34m.\u001b[0m\u001b[0m_sock\u001b[0m\u001b[0;34m.\u001b[0m\u001b[0mrecv_into\u001b[0m\u001b[0;34m(\u001b[0m\u001b[0mb\u001b[0m\u001b[0;34m)\u001b[0m\u001b[0;34m\u001b[0m\u001b[0m\n\u001b[0m\u001b[1;32m    576\u001b[0m             \u001b[0;32mexcept\u001b[0m \u001b[0mtimeout\u001b[0m\u001b[0;34m:\u001b[0m\u001b[0;34m\u001b[0m\u001b[0m\n\u001b[1;32m    577\u001b[0m                 \u001b[0mself\u001b[0m\u001b[0;34m.\u001b[0m\u001b[0m_timeout_occurred\u001b[0m \u001b[0;34m=\u001b[0m \u001b[0;32mTrue\u001b[0m\u001b[0;34m\u001b[0m\u001b[0m\n",
      "\u001b[0;32m/usr/local/Cellar/python3/3.5.1/Frameworks/Python.framework/Versions/3.5/lib/python3.5/ssl.py\u001b[0m in \u001b[0;36mrecv_into\u001b[0;34m(self, buffer, nbytes, flags)\u001b[0m\n\u001b[1;32m    922\u001b[0m                   \u001b[0;34m\"non-zero flags not allowed in calls to recv_into() on %s\"\u001b[0m \u001b[0;34m%\u001b[0m\u001b[0;34m\u001b[0m\u001b[0m\n\u001b[1;32m    923\u001b[0m                   self.__class__)\n\u001b[0;32m--> 924\u001b[0;31m             \u001b[0;32mreturn\u001b[0m \u001b[0mself\u001b[0m\u001b[0;34m.\u001b[0m\u001b[0mread\u001b[0m\u001b[0;34m(\u001b[0m\u001b[0mnbytes\u001b[0m\u001b[0;34m,\u001b[0m \u001b[0mbuffer\u001b[0m\u001b[0;34m)\u001b[0m\u001b[0;34m\u001b[0m\u001b[0m\n\u001b[0m\u001b[1;32m    925\u001b[0m         \u001b[0;32melse\u001b[0m\u001b[0;34m:\u001b[0m\u001b[0;34m\u001b[0m\u001b[0m\n\u001b[1;32m    926\u001b[0m             \u001b[0;32mreturn\u001b[0m \u001b[0msocket\u001b[0m\u001b[0;34m.\u001b[0m\u001b[0mrecv_into\u001b[0m\u001b[0;34m(\u001b[0m\u001b[0mself\u001b[0m\u001b[0;34m,\u001b[0m \u001b[0mbuffer\u001b[0m\u001b[0;34m,\u001b[0m \u001b[0mnbytes\u001b[0m\u001b[0;34m,\u001b[0m \u001b[0mflags\u001b[0m\u001b[0;34m)\u001b[0m\u001b[0;34m\u001b[0m\u001b[0m\n",
      "\u001b[0;32m/usr/local/Cellar/python3/3.5.1/Frameworks/Python.framework/Versions/3.5/lib/python3.5/ssl.py\u001b[0m in \u001b[0;36mread\u001b[0;34m(self, len, buffer)\u001b[0m\n\u001b[1;32m    784\u001b[0m             \u001b[0;32mraise\u001b[0m \u001b[0mValueError\u001b[0m\u001b[0;34m(\u001b[0m\u001b[0;34m\"Read on closed or unwrapped SSL socket.\"\u001b[0m\u001b[0;34m)\u001b[0m\u001b[0;34m\u001b[0m\u001b[0m\n\u001b[1;32m    785\u001b[0m         \u001b[0;32mtry\u001b[0m\u001b[0;34m:\u001b[0m\u001b[0;34m\u001b[0m\u001b[0m\n\u001b[0;32m--> 786\u001b[0;31m             \u001b[0;32mreturn\u001b[0m \u001b[0mself\u001b[0m\u001b[0;34m.\u001b[0m\u001b[0m_sslobj\u001b[0m\u001b[0;34m.\u001b[0m\u001b[0mread\u001b[0m\u001b[0;34m(\u001b[0m\u001b[0mlen\u001b[0m\u001b[0;34m,\u001b[0m \u001b[0mbuffer\u001b[0m\u001b[0;34m)\u001b[0m\u001b[0;34m\u001b[0m\u001b[0m\n\u001b[0m\u001b[1;32m    787\u001b[0m         \u001b[0;32mexcept\u001b[0m \u001b[0mSSLError\u001b[0m \u001b[0;32mas\u001b[0m \u001b[0mx\u001b[0m\u001b[0;34m:\u001b[0m\u001b[0;34m\u001b[0m\u001b[0m\n\u001b[1;32m    788\u001b[0m             \u001b[0;32mif\u001b[0m \u001b[0mx\u001b[0m\u001b[0;34m.\u001b[0m\u001b[0margs\u001b[0m\u001b[0;34m[\u001b[0m\u001b[0;36m0\u001b[0m\u001b[0;34m]\u001b[0m \u001b[0;34m==\u001b[0m \u001b[0mSSL_ERROR_EOF\u001b[0m \u001b[0;32mand\u001b[0m \u001b[0mself\u001b[0m\u001b[0;34m.\u001b[0m\u001b[0msuppress_ragged_eofs\u001b[0m\u001b[0;34m:\u001b[0m\u001b[0;34m\u001b[0m\u001b[0m\n",
      "\u001b[0;32m/usr/local/Cellar/python3/3.5.1/Frameworks/Python.framework/Versions/3.5/lib/python3.5/ssl.py\u001b[0m in \u001b[0;36mread\u001b[0;34m(self, len, buffer)\u001b[0m\n\u001b[1;32m    568\u001b[0m         \"\"\"\n\u001b[1;32m    569\u001b[0m         \u001b[0;32mif\u001b[0m \u001b[0mbuffer\u001b[0m \u001b[0;32mis\u001b[0m \u001b[0;32mnot\u001b[0m \u001b[0;32mNone\u001b[0m\u001b[0;34m:\u001b[0m\u001b[0;34m\u001b[0m\u001b[0m\n\u001b[0;32m--> 570\u001b[0;31m             \u001b[0mv\u001b[0m \u001b[0;34m=\u001b[0m \u001b[0mself\u001b[0m\u001b[0;34m.\u001b[0m\u001b[0m_sslobj\u001b[0m\u001b[0;34m.\u001b[0m\u001b[0mread\u001b[0m\u001b[0;34m(\u001b[0m\u001b[0mlen\u001b[0m\u001b[0;34m,\u001b[0m \u001b[0mbuffer\u001b[0m\u001b[0;34m)\u001b[0m\u001b[0;34m\u001b[0m\u001b[0m\n\u001b[0m\u001b[1;32m    571\u001b[0m         \u001b[0;32melse\u001b[0m\u001b[0;34m:\u001b[0m\u001b[0;34m\u001b[0m\u001b[0m\n\u001b[1;32m    572\u001b[0m             \u001b[0mv\u001b[0m \u001b[0;34m=\u001b[0m \u001b[0mself\u001b[0m\u001b[0;34m.\u001b[0m\u001b[0m_sslobj\u001b[0m\u001b[0;34m.\u001b[0m\u001b[0mread\u001b[0m\u001b[0;34m(\u001b[0m\u001b[0mlen\u001b[0m \u001b[0;32mor\u001b[0m \u001b[0;36m1024\u001b[0m\u001b[0;34m)\u001b[0m\u001b[0;34m\u001b[0m\u001b[0m\n",
      "\u001b[0;31mKeyboardInterrupt\u001b[0m: "
     ]
    }
   ],
   "source": [
    "import numpy as np\n",
    "social_sites = [\"Twitter\", \"Facebook\", \"Instagram\", \"MySpace\", \"Tumblr\", \"Snapchat\"]\n",
    "social_df = pd.read_csv(\"social_hits.csv\", encoding='latin-1')\n",
    "for social in social_sites:\n",
    "    #start_date = 20000101  \n",
    "    #end_date = 20001231\n",
    "    start_date = 20050101  \n",
    "    end_date = 20051231\n",
    "    array=[]\n",
    "\n",
    "    for n in [1,2,3,4,5,6, 7,8,9,10,11]:\n",
    "        if (n <= 10):\n",
    "            start_date = start_date + 10000\n",
    "            #print(start_date)\n",
    "            end_date = end_date + 10000\n",
    "            #print(end_date)\n",
    "        else:\n",
    "            # start_date = start_date + 100000\n",
    "            start_date = 20160101\n",
    "            #print(start_date)\n",
    "            end_date = 20160730\n",
    "            #print(end_date)\n",
    "\n",
    "\n",
    "        response = requests.get('https://api.nytimes.com/svc/search/v2/articlesearch.json?api-key=' + nyt_articles_api + '&q=' + social + '&begin_date=' +  str(start_date)   + '&end_date=' +  str(end_date)+ '&sort=oldest')\n",
    "\n",
    "        social_data = response.json()  \n",
    "        social_hits = social_data['response']['meta']['hits']\n",
    "\n",
    "        start_str = str(start_date)\n",
    "        start_str = start_str[:4]\n",
    "\n",
    "        end_str = str(end_date)\n",
    "        end_str = end_str[:4]\n",
    "        \n",
    "        social_df = social_df.append({\"year\": end_str, \"hits\": social_hits, \"social_site\": social}, ignore_index=True)\n",
    "        #array.append({\"year\": end_str, \"hits\": social_hits, \"social_site\": social})\n",
    "        print(\"There were\", social_hits, \"mentions of\", social, \"in\", end_str)\n",
    "        #print(array)\n",
    "    #social_df.append(array)\n",
    "        \n",
    "\n"
   ]
  },
  {
   "cell_type": "code",
   "execution_count": 31,
   "metadata": {
    "collapsed": false
   },
   "outputs": [
    {
     "name": "stdout",
     "output_type": "stream",
     "text": [
      "<Response [200]>\n",
      "There were 1 mentions of Twitter in 2006 from 0101 to 0331\n",
      "<Response [200]>\n",
      "There were 1 mentions of Twitter in 2006 from 0401 to 0630\n",
      "<Response [200]>\n",
      "There were 1 mentions of Twitter in 2006 from 0701 to 0930\n",
      "<Response [200]>\n",
      "There were 3 mentions of Twitter in 2006 from 1001 to 1231\n",
      "<Response [200]>\n",
      "There were 0 mentions of Twitter in 2007 from 0101 to 0331\n",
      "<Response [200]>\n",
      "There were 11 mentions of Twitter in 2007 from 0401 to 0630\n",
      "<Response [200]>\n",
      "There were 10 mentions of Twitter in 2007 from 0701 to 0930\n",
      "<Response [200]>\n",
      "There were 17 mentions of Twitter in 2007 from 1001 to 1231\n",
      "<Response [200]>\n",
      "There were 26 mentions of Twitter in 2008 from 0101 to 0331\n",
      "<Response [200]>\n",
      "There were 38 mentions of Twitter in 2008 from 0401 to 0630\n",
      "<Response [200]>\n",
      "There were 149 mentions of Twitter in 2008 from 0701 to 0930\n",
      "<Response [200]>\n",
      "There were 202 mentions of Twitter in 2008 from 1001 to 1231\n",
      "<Response [200]>\n",
      "There were 401 mentions of Twitter in 2009 from 0101 to 0331\n",
      "<Response [200]>\n",
      "There were 740 mentions of Twitter in 2009 from 0401 to 0630\n",
      "<Response [200]>\n",
      "There were 832 mentions of Twitter in 2009 from 0701 to 0930\n",
      "<Response [200]>\n",
      "There were 765 mentions of Twitter in 2009 from 1001 to 1231\n",
      "<Response [200]>\n",
      "There were 875 mentions of Twitter in 2010 from 0101 to 0331\n",
      "<Response [200]>\n",
      "There were 897 mentions of Twitter in 2010 from 0401 to 0630\n",
      "<Response [200]>\n",
      "There were 941 mentions of Twitter in 2010 from 0701 to 0930\n",
      "<Response [200]>\n",
      "There were 1039 mentions of Twitter in 2010 from 1001 to 1231\n",
      "<Response [200]>\n",
      "There were 1394 mentions of Twitter in 2011 from 0101 to 0331\n",
      "<Response [200]>\n",
      "There were 1322 mentions of Twitter in 2011 from 0401 to 0630\n",
      "<Response [200]>\n",
      "There were 1728 mentions of Twitter in 2011 from 0701 to 0930\n",
      "<Response [200]>\n",
      "There were 2395 mentions of Twitter in 2011 from 1001 to 1231\n",
      "<Response [200]>\n",
      "There were 2416 mentions of Twitter in 2012 from 0101 to 0331\n",
      "<Response [200]>\n",
      "There were 1879 mentions of Twitter in 2012 from 0401 to 0630\n",
      "<Response [200]>\n",
      "There were 1820 mentions of Twitter in 2012 from 0701 to 0930\n",
      "<Response [200]>\n",
      "There were 1728 mentions of Twitter in 2012 from 1001 to 1231\n",
      "<Response [200]>\n",
      "There were 1688 mentions of Twitter in 2013 from 0101 to 0331\n",
      "<Response [200]>\n",
      "There were 1663 mentions of Twitter in 2013 from 0401 to 0630\n",
      "<Response [200]>\n",
      "There were 2278 mentions of Twitter in 2013 from 0701 to 0930\n",
      "<Response [200]>\n",
      "There were 1505 mentions of Twitter in 2013 from 1001 to 1231\n",
      "<Response [200]>\n",
      "There were 3736 mentions of Twitter in 2014 from 0101 to 0331\n",
      "<Response [200]>\n",
      "There were 3324 mentions of Twitter in 2014 from 0401 to 0630\n",
      "<Response [200]>\n",
      "There were 3414 mentions of Twitter in 2014 from 0701 to 0930\n",
      "<Response [200]>\n",
      "There were 2894 mentions of Twitter in 2014 from 1001 to 1231\n",
      "<Response [200]>\n",
      "There were 3343 mentions of Twitter in 2015 from 0101 to 0331\n",
      "<Response [200]>\n",
      "There were 3239 mentions of Twitter in 2015 from 0401 to 0630\n",
      "<Response [200]>\n",
      "There were 3426 mentions of Twitter in 2015 from 0701 to 0930\n",
      "<Response [200]>\n",
      "There were 3875 mentions of Twitter in 2015 from 1001 to 1231\n",
      "<Response [200]>\n",
      "There were 7 mentions of Facebook in 2006 from 0101 to 0331\n",
      "<Response [200]>\n",
      "There were 20 mentions of Facebook in 2006 from 0401 to 0630\n",
      "<Response [200]>\n",
      "There were 35 mentions of Facebook in 2006 from 0701 to 0930\n",
      "<Response [200]>\n",
      "There were 55 mentions of Facebook in 2006 from 1001 to 1231\n",
      "<Response [200]>\n",
      "There were 47 mentions of Facebook in 2007 from 0101 to 0331\n",
      "<Response [200]>\n",
      "There were 72 mentions of Facebook in 2007 from 0401 to 0630\n",
      "<Response [200]>\n",
      "There were 195 mentions of Facebook in 2007 from 0701 to 0930\n",
      "<Response [200]>\n",
      "There were 239 mentions of Facebook in 2007 from 1001 to 1231\n",
      "<Response [200]>\n",
      "There were 274 mentions of Facebook in 2008 from 0101 to 0331\n",
      "<Response [200]>\n",
      "There were 197 mentions of Facebook in 2008 from 0401 to 0630\n",
      "<Response [200]>\n",
      "There were 221 mentions of Facebook in 2008 from 0701 to 0930\n",
      "<Response [200]>\n",
      "There were 269 mentions of Facebook in 2008 from 1001 to 1231\n",
      "<Response [200]>\n",
      "There were 439 mentions of Facebook in 2009 from 0101 to 0331\n",
      "<Response [200]>\n",
      "There were 608 mentions of Facebook in 2009 from 0401 to 0630\n",
      "<Response [200]>\n",
      "There were 591 mentions of Facebook in 2009 from 0701 to 0930\n",
      "<Response [200]>\n",
      "There were 611 mentions of Facebook in 2009 from 1001 to 1231\n",
      "<Response [200]>\n",
      "There were 744 mentions of Facebook in 2010 from 0101 to 0331\n",
      "<Response [200]>\n",
      "There were 816 mentions of Facebook in 2010 from 0401 to 0630\n",
      "<Response [200]>\n",
      "There were 803 mentions of Facebook in 2010 from 0701 to 0930\n",
      "<Response [200]>\n",
      "There were 924 mentions of Facebook in 2010 from 1001 to 1231\n",
      "<Response [200]>\n",
      "There were 1471 mentions of Facebook in 2011 from 0101 to 0331\n",
      "<Response [200]>\n",
      "There were 1235 mentions of Facebook in 2011 from 0401 to 0630\n",
      "<Response [200]>\n",
      "There were 1334 mentions of Facebook in 2011 from 0701 to 0930\n",
      "<Response [200]>\n",
      "There were 1878 mentions of Facebook in 2011 from 1001 to 1231\n",
      "<Response [200]>\n",
      "There were 1828 mentions of Facebook in 2012 from 0101 to 0331\n",
      "<Response [200]>\n",
      "There were 1815 mentions of Facebook in 2012 from 0401 to 0630\n",
      "<Response [200]>\n",
      "There were 1327 mentions of Facebook in 2012 from 0701 to 0930\n",
      "<Response [200]>\n",
      "There were 1207 mentions of Facebook in 2012 from 1001 to 1231\n",
      "<Response [200]>\n",
      "There were 1146 mentions of Facebook in 2013 from 0101 to 0331\n",
      "<Response [200]>\n",
      "There were 1257 mentions of Facebook in 2013 from 0401 to 0630\n",
      "<Response [200]>\n",
      "There were 1585 mentions of Facebook in 2013 from 0701 to 0930\n",
      "<Response [200]>\n",
      "There were 1069 mentions of Facebook in 2013 from 1001 to 1231\n",
      "<Response [200]>\n",
      "There were 2105 mentions of Facebook in 2014 from 0101 to 0331\n",
      "<Response [200]>\n",
      "There were 2153 mentions of Facebook in 2014 from 0401 to 0630\n",
      "<Response [200]>\n",
      "There were 2013 mentions of Facebook in 2014 from 0701 to 0930\n",
      "<Response [200]>\n",
      "There were 1932 mentions of Facebook in 2014 from 1001 to 1231\n",
      "<Response [200]>\n",
      "There were 2190 mentions of Facebook in 2015 from 0101 to 0331\n",
      "<Response [200]>\n",
      "There were 2411 mentions of Facebook in 2015 from 0401 to 0630\n",
      "<Response [200]>\n",
      "There were 2671 mentions of Facebook in 2015 from 0701 to 0930\n",
      "<Response [200]>\n",
      "There were 3017 mentions of Facebook in 2015 from 1001 to 1231\n",
      "<Response [200]>\n",
      "There were 0 mentions of Instagram in 2006 from 0101 to 0331\n",
      "<Response [200]>\n",
      "There were 0 mentions of Instagram in 2006 from 0401 to 0630\n",
      "<Response [200]>\n",
      "There were 0 mentions of Instagram in 2006 from 0701 to 0930\n",
      "<Response [200]>\n",
      "There were 0 mentions of Instagram in 2006 from 1001 to 1231\n",
      "<Response [200]>\n",
      "There were 0 mentions of Instagram in 2007 from 0101 to 0331\n",
      "<Response [200]>\n",
      "There were 0 mentions of Instagram in 2007 from 0401 to 0630\n",
      "<Response [200]>\n",
      "There were 0 mentions of Instagram in 2007 from 0701 to 0930\n",
      "<Response [200]>\n",
      "There were 0 mentions of Instagram in 2007 from 1001 to 1231\n",
      "<Response [200]>\n",
      "There were 0 mentions of Instagram in 2008 from 0101 to 0331\n",
      "<Response [200]>\n",
      "There were 0 mentions of Instagram in 2008 from 0401 to 0630\n",
      "<Response [200]>\n",
      "There were 0 mentions of Instagram in 2008 from 0701 to 0930\n",
      "<Response [200]>\n",
      "There were 0 mentions of Instagram in 2008 from 1001 to 1231\n",
      "<Response [200]>\n",
      "There were 0 mentions of Instagram in 2009 from 0101 to 0331\n",
      "<Response [200]>\n",
      "There were 0 mentions of Instagram in 2009 from 0401 to 0630\n",
      "<Response [200]>\n",
      "There were 0 mentions of Instagram in 2009 from 0701 to 0930\n",
      "<Response [200]>\n",
      "There were 0 mentions of Instagram in 2009 from 1001 to 1231\n",
      "<Response [200]>\n",
      "There were 0 mentions of Instagram in 2010 from 0101 to 0331\n",
      "<Response [200]>\n",
      "There were 0 mentions of Instagram in 2010 from 0401 to 0630\n",
      "<Response [200]>\n",
      "There were 1 mentions of Instagram in 2010 from 0701 to 0930\n",
      "<Response [200]>\n",
      "There were 8 mentions of Instagram in 2010 from 1001 to 1231\n",
      "<Response [200]>\n",
      "There were 12 mentions of Instagram in 2011 from 0101 to 0331\n",
      "<Response [200]>\n",
      "There were 21 mentions of Instagram in 2011 from 0401 to 0630\n",
      "<Response [200]>\n",
      "There were 23 mentions of Instagram in 2011 from 0701 to 0930\n",
      "<Response [200]>\n",
      "There were 20 mentions of Instagram in 2011 from 1001 to 1231\n",
      "<Response [200]>\n",
      "There were 56 mentions of Instagram in 2012 from 0101 to 0331\n",
      "<Response [200]>\n",
      "There were 204 mentions of Instagram in 2012 from 0401 to 0630\n",
      "<Response [200]>\n",
      "There were 102 mentions of Instagram in 2012 from 0701 to 0930\n",
      "<Response [200]>\n",
      "There were 134 mentions of Instagram in 2012 from 1001 to 1231\n",
      "<Response [200]>\n",
      "There were 133 mentions of Instagram in 2013 from 0101 to 0331\n",
      "<Response [200]>\n",
      "There were 137 mentions of Instagram in 2013 from 0401 to 0630\n",
      "<Response [200]>\n",
      "There were 220 mentions of Instagram in 2013 from 0701 to 0930\n",
      "<Response [200]>\n",
      "There were 212 mentions of Instagram in 2013 from 1001 to 1231\n",
      "<Response [200]>\n",
      "There were 371 mentions of Instagram in 2014 from 0101 to 0331\n",
      "<Response [200]>\n",
      "There were 369 mentions of Instagram in 2014 from 0401 to 0630\n",
      "<Response [200]>\n",
      "There were 392 mentions of Instagram in 2014 from 0701 to 0930\n",
      "<Response [200]>\n",
      "There were 413 mentions of Instagram in 2014 from 1001 to 1231\n",
      "<Response [200]>\n",
      "There were 737 mentions of Instagram in 2015 from 0101 to 0331\n",
      "<Response [200]>\n",
      "There were 506 mentions of Instagram in 2015 from 0401 to 0630\n",
      "<Response [200]>\n",
      "There were 571 mentions of Instagram in 2015 from 0701 to 0930\n",
      "<Response [200]>\n",
      "There were 547 mentions of Instagram in 2015 from 1001 to 1231\n",
      "<Response [200]>\n",
      "There were 24 mentions of MySpace in 2006 from 0101 to 0331\n",
      "<Response [200]>\n",
      "There were 70 mentions of MySpace in 2006 from 0401 to 0630\n",
      "<Response [200]>\n",
      "There were 126 mentions of MySpace in 2006 from 0701 to 0930\n",
      "<Response [200]>\n",
      "There were 186 mentions of MySpace in 2006 from 1001 to 1231\n",
      "<Response [200]>\n",
      "There were 176 mentions of MySpace in 2007 from 0101 to 0331\n",
      "<Response [200]>\n",
      "There were 203 mentions of MySpace in 2007 from 0401 to 0630\n",
      "<Response [200]>\n",
      "There were 218 mentions of MySpace in 2007 from 0701 to 0930\n",
      "<Response [200]>\n",
      "There were 185 mentions of MySpace in 2007 from 1001 to 1231\n",
      "<Response [200]>\n",
      "There were 219 mentions of MySpace in 2008 from 0101 to 0331\n",
      "<Response [200]>\n",
      "There were 158 mentions of MySpace in 2008 from 0401 to 0630\n",
      "<Response [200]>\n",
      "There were 107 mentions of MySpace in 2008 from 0701 to 0930\n",
      "<Response [200]>\n",
      "There were 109 mentions of MySpace in 2008 from 1001 to 1231\n",
      "<Response [200]>\n",
      "There were 115 mentions of MySpace in 2009 from 0101 to 0331\n",
      "<Response [200]>\n",
      "There were 121 mentions of MySpace in 2009 from 0401 to 0630\n",
      "<Response [200]>\n",
      "There were 93 mentions of MySpace in 2009 from 0701 to 0930\n",
      "<Response [200]>\n",
      "There were 94 mentions of MySpace in 2009 from 1001 to 1231\n",
      "<Response [200]>\n",
      "There were 68 mentions of MySpace in 2010 from 0101 to 0331\n",
      "<Response [200]>\n",
      "There were 58 mentions of MySpace in 2010 from 0401 to 0630\n",
      "<Response [200]>\n",
      "There were 57 mentions of MySpace in 2010 from 0701 to 0930\n",
      "<Response [200]>\n",
      "There were 46 mentions of MySpace in 2010 from 1001 to 1231\n",
      "<Response [200]>\n",
      "There were 47 mentions of MySpace in 2011 from 0101 to 0331\n",
      "<Response [200]>\n",
      "There were 41 mentions of MySpace in 2011 from 0401 to 0630\n",
      "<Response [200]>\n",
      "There were 32 mentions of MySpace in 2011 from 0701 to 0930\n",
      "<Response [200]>\n",
      "There were 38 mentions of MySpace in 2011 from 1001 to 1231\n",
      "<Response [200]>\n",
      "There were 42 mentions of MySpace in 2012 from 0101 to 0331\n",
      "<Response [200]>\n",
      "There were 39 mentions of MySpace in 2012 from 0401 to 0630\n",
      "<Response [200]>\n",
      "There were 19 mentions of MySpace in 2012 from 0701 to 0930\n",
      "<Response [200]>\n",
      "There were 13 mentions of MySpace in 2012 from 1001 to 1231\n",
      "<Response [200]>\n",
      "There were 20 mentions of MySpace in 2013 from 0101 to 0331\n",
      "<Response [200]>\n",
      "There were 12 mentions of MySpace in 2013 from 0401 to 0630\n",
      "<Response [200]>\n",
      "There were 9 mentions of MySpace in 2013 from 0701 to 0930\n",
      "<Response [200]>\n",
      "There were 13 mentions of MySpace in 2013 from 1001 to 1231\n",
      "<Response [200]>\n",
      "There were 20 mentions of MySpace in 2014 from 0101 to 0331\n",
      "<Response [200]>\n",
      "There were 20 mentions of MySpace in 2014 from 0401 to 0630\n",
      "<Response [200]>\n",
      "There were 15 mentions of MySpace in 2014 from 0701 to 0930\n",
      "<Response [200]>\n",
      "There were 17 mentions of MySpace in 2014 from 1001 to 1231\n",
      "<Response [200]>\n",
      "There were 8 mentions of MySpace in 2015 from 0101 to 0331\n",
      "<Response [200]>\n",
      "There were 6 mentions of MySpace in 2015 from 0401 to 0630\n",
      "<Response [200]>\n",
      "There were 7 mentions of MySpace in 2015 from 0701 to 0930\n",
      "<Response [200]>\n",
      "There were 11 mentions of MySpace in 2015 from 1001 to 1231\n",
      "<Response [200]>\n",
      "There were 0 mentions of Tumblr in 2006 from 0101 to 0331\n",
      "<Response [200]>\n",
      "There were 0 mentions of Tumblr in 2006 from 0401 to 0630\n",
      "<Response [200]>\n",
      "There were 0 mentions of Tumblr in 2006 from 0701 to 0930\n",
      "<Response [200]>\n",
      "There were 0 mentions of Tumblr in 2006 from 1001 to 1231\n",
      "<Response [200]>\n",
      "There were 0 mentions of Tumblr in 2007 from 0101 to 0331\n",
      "<Response [200]>\n",
      "There were 0 mentions of Tumblr in 2007 from 0401 to 0630\n",
      "<Response [200]>\n",
      "There were 0 mentions of Tumblr in 2007 from 0701 to 0930\n",
      "<Response [200]>\n",
      "There were 1 mentions of Tumblr in 2007 from 1001 to 1231\n",
      "<Response [200]>\n",
      "There were 0 mentions of Tumblr in 2008 from 0101 to 0331\n",
      "<Response [200]>\n",
      "There were 1 mentions of Tumblr in 2008 from 0401 to 0630\n",
      "<Response [200]>\n",
      "There were 3 mentions of Tumblr in 2008 from 0701 to 0930\n",
      "<Response [200]>\n",
      "There were 2 mentions of Tumblr in 2008 from 1001 to 1231\n",
      "<Response [200]>\n",
      "There were 10 mentions of Tumblr in 2009 from 0101 to 0331\n",
      "<Response [200]>\n",
      "There were 11 mentions of Tumblr in 2009 from 0401 to 0630\n",
      "<Response [200]>\n",
      "There were 2 mentions of Tumblr in 2009 from 0701 to 0930\n",
      "<Response [200]>\n",
      "There were 1 mentions of Tumblr in 2009 from 1001 to 1231\n",
      "<Response [200]>\n",
      "There were 17 mentions of Tumblr in 2010 from 0101 to 0331\n",
      "<Response [200]>\n",
      "There were 15 mentions of Tumblr in 2010 from 0401 to 0630\n",
      "<Response [200]>\n",
      "There were 26 mentions of Tumblr in 2010 from 0701 to 0930\n",
      "<Response [200]>\n",
      "There were 31 mentions of Tumblr in 2010 from 1001 to 1231\n",
      "<Response [200]>\n",
      "There were 22 mentions of Tumblr in 2011 from 0101 to 0331\n",
      "<Response [200]>\n",
      "There were 29 mentions of Tumblr in 2011 from 0401 to 0630\n",
      "<Response [200]>\n",
      "There were 61 mentions of Tumblr in 2011 from 0701 to 0930\n",
      "<Response [200]>\n",
      "There were 92 mentions of Tumblr in 2011 from 1001 to 1231\n",
      "<Response [200]>\n",
      "There were 90 mentions of Tumblr in 2012 from 0101 to 0331\n",
      "<Response [200]>\n",
      "There were 73 mentions of Tumblr in 2012 from 0401 to 0630\n",
      "<Response [200]>\n",
      "There were 89 mentions of Tumblr in 2012 from 0701 to 0930\n",
      "<Response [200]>\n",
      "There were 73 mentions of Tumblr in 2012 from 1001 to 1231\n",
      "<Response [200]>\n",
      "There were 75 mentions of Tumblr in 2013 from 0101 to 0331\n",
      "<Response [200]>\n",
      "There were 101 mentions of Tumblr in 2013 from 0401 to 0630\n",
      "<Response [200]>\n",
      "There were 93 mentions of Tumblr in 2013 from 0701 to 0930\n",
      "<Response [200]>\n",
      "There were 65 mentions of Tumblr in 2013 from 1001 to 1231\n",
      "<Response [200]>\n",
      "There were 76 mentions of Tumblr in 2014 from 0101 to 0331\n",
      "<Response [200]>\n",
      "There were 87 mentions of Tumblr in 2014 from 0401 to 0630\n",
      "<Response [200]>\n",
      "There were 90 mentions of Tumblr in 2014 from 0701 to 0930\n",
      "<Response [200]>\n",
      "There were 88 mentions of Tumblr in 2014 from 1001 to 1231\n",
      "<Response [200]>\n",
      "There were 78 mentions of Tumblr in 2015 from 0101 to 0331\n",
      "<Response [200]>\n",
      "There were 88 mentions of Tumblr in 2015 from 0401 to 0630\n",
      "<Response [200]>\n",
      "There were 80 mentions of Tumblr in 2015 from 0701 to 0930\n",
      "<Response [200]>\n",
      "There were 85 mentions of Tumblr in 2015 from 1001 to 1231\n",
      "<Response [200]>\n",
      "There were 0 mentions of Snapchat in 2006 from 0101 to 0331\n",
      "<Response [200]>\n",
      "There were 0 mentions of Snapchat in 2006 from 0401 to 0630\n",
      "<Response [200]>\n",
      "There were 0 mentions of Snapchat in 2006 from 0701 to 0930\n",
      "<Response [200]>\n",
      "There were 0 mentions of Snapchat in 2006 from 1001 to 1231\n",
      "<Response [200]>\n",
      "There were 0 mentions of Snapchat in 2007 from 0101 to 0331\n",
      "<Response [200]>\n",
      "There were 0 mentions of Snapchat in 2007 from 0401 to 0630\n",
      "<Response [200]>\n",
      "There were 0 mentions of Snapchat in 2007 from 0701 to 0930\n",
      "<Response [200]>\n",
      "There were 0 mentions of Snapchat in 2007 from 1001 to 1231\n",
      "<Response [200]>\n",
      "There were 0 mentions of Snapchat in 2008 from 0101 to 0331\n",
      "<Response [200]>\n",
      "There were 0 mentions of Snapchat in 2008 from 0401 to 0630\n",
      "<Response [200]>\n",
      "There were 0 mentions of Snapchat in 2008 from 0701 to 0930\n",
      "<Response [200]>\n",
      "There were 0 mentions of Snapchat in 2008 from 1001 to 1231\n",
      "<Response [200]>\n",
      "There were 0 mentions of Snapchat in 2009 from 0101 to 0331\n",
      "<Response [200]>\n",
      "There were 0 mentions of Snapchat in 2009 from 0401 to 0630\n",
      "<Response [200]>\n",
      "There were 0 mentions of Snapchat in 2009 from 0701 to 0930\n",
      "<Response [200]>\n",
      "There were 0 mentions of Snapchat in 2009 from 1001 to 1231\n",
      "<Response [200]>\n",
      "There were 0 mentions of Snapchat in 2010 from 0101 to 0331\n",
      "<Response [200]>\n",
      "There were 0 mentions of Snapchat in 2010 from 0401 to 0630\n",
      "<Response [200]>\n",
      "There were 0 mentions of Snapchat in 2010 from 0701 to 0930\n",
      "<Response [200]>\n",
      "There were 0 mentions of Snapchat in 2010 from 1001 to 1231\n",
      "<Response [200]>\n",
      "There were 0 mentions of Snapchat in 2011 from 0101 to 0331\n",
      "<Response [200]>\n",
      "There were 0 mentions of Snapchat in 2011 from 0401 to 0630\n",
      "<Response [200]>\n",
      "There were 0 mentions of Snapchat in 2011 from 0701 to 0930\n",
      "<Response [200]>\n",
      "There were 0 mentions of Snapchat in 2011 from 1001 to 1231\n",
      "<Response [200]>\n",
      "There were 0 mentions of Snapchat in 2012 from 0101 to 0331\n",
      "<Response [200]>\n",
      "There were 4 mentions of Snapchat in 2012 from 0401 to 0630\n",
      "<Response [200]>\n",
      "There were 0 mentions of Snapchat in 2012 from 0701 to 0930\n",
      "<Response [200]>\n",
      "There were 2 mentions of Snapchat in 2012 from 1001 to 1231\n",
      "<Response [200]>\n",
      "There were 14 mentions of Snapchat in 2013 from 0101 to 0331\n",
      "<Response [200]>\n",
      "There were 13 mentions of Snapchat in 2013 from 0401 to 0630\n",
      "<Response [200]>\n",
      "There were 26 mentions of Snapchat in 2013 from 0701 to 0930\n",
      "<Response [200]>\n",
      "There were 63 mentions of Snapchat in 2013 from 1001 to 1231\n",
      "<Response [200]>\n",
      "There were 99 mentions of Snapchat in 2014 from 0101 to 0331\n",
      "<Response [200]>\n",
      "There were 85 mentions of Snapchat in 2014 from 0401 to 0630\n",
      "<Response [200]>\n",
      "There were 57 mentions of Snapchat in 2014 from 0701 to 0930\n",
      "<Response [200]>\n",
      "There were 80 mentions of Snapchat in 2014 from 1001 to 1231\n",
      "<Response [200]>\n",
      "There were 131 mentions of Snapchat in 2015 from 0101 to 0331\n",
      "<Response [200]>\n",
      "There were 96 mentions of Snapchat in 2015 from 0401 to 0630\n",
      "<Response [200]>\n",
      "There were 112 mentions of Snapchat in 2015 from 0701 to 0930\n",
      "<Response [200]>\n",
      "There were 103 mentions of Snapchat in 2015 from 1001 to 1231\n",
      "<Response [200]>\n",
      "There were 0 mentions of LinkedIn in 2006 from 0101 to 0331\n",
      "<Response [200]>\n",
      "There were 0 mentions of LinkedIn in 2006 from 0401 to 0630\n",
      "<Response [200]>\n",
      "There were 2 mentions of LinkedIn in 2006 from 0701 to 0930\n",
      "<Response [200]>\n",
      "There were 3 mentions of LinkedIn in 2006 from 1001 to 1231\n",
      "<Response [200]>\n",
      "There were 5 mentions of LinkedIn in 2007 from 0101 to 0331\n",
      "<Response [200]>\n",
      "There were 6 mentions of LinkedIn in 2007 from 0401 to 0630\n",
      "<Response [200]>\n",
      "There were 7 mentions of LinkedIn in 2007 from 0701 to 0930\n",
      "<Response [200]>\n",
      "There were 19 mentions of LinkedIn in 2007 from 1001 to 1231\n",
      "<Response [200]>\n",
      "There were 12 mentions of LinkedIn in 2008 from 0101 to 0331\n",
      "<Response [200]>\n",
      "There were 22 mentions of LinkedIn in 2008 from 0401 to 0630\n",
      "<Response [200]>\n",
      "There were 23 mentions of LinkedIn in 2008 from 0701 to 0930\n",
      "<Response [200]>\n",
      "There were 13 mentions of LinkedIn in 2008 from 1001 to 1231\n",
      "<Response [200]>\n",
      "There were 21 mentions of LinkedIn in 2009 from 0101 to 0331\n",
      "<Response [200]>\n",
      "There were 35 mentions of LinkedIn in 2009 from 0401 to 0630\n",
      "<Response [200]>\n",
      "There were 25 mentions of LinkedIn in 2009 from 0701 to 0930\n",
      "<Response [200]>\n",
      "There were 28 mentions of LinkedIn in 2009 from 1001 to 1231\n",
      "<Response [200]>\n",
      "There were 30 mentions of LinkedIn in 2010 from 0101 to 0331\n",
      "<Response [200]>\n",
      "There were 28 mentions of LinkedIn in 2010 from 0401 to 0630\n",
      "<Response [200]>\n",
      "There were 34 mentions of LinkedIn in 2010 from 0701 to 0930\n",
      "<Response [200]>\n",
      "There were 36 mentions of LinkedIn in 2010 from 1001 to 1231\n",
      "<Response [200]>\n",
      "There were 59 mentions of LinkedIn in 2011 from 0101 to 0331\n",
      "<Response [200]>\n",
      "There were 174 mentions of LinkedIn in 2011 from 0401 to 0630\n",
      "<Response [200]>\n",
      "There were 106 mentions of LinkedIn in 2011 from 0701 to 0930\n",
      "<Response [200]>\n",
      "There were 123 mentions of LinkedIn in 2011 from 1001 to 1231\n",
      "<Response [200]>\n",
      "There were 136 mentions of LinkedIn in 2012 from 0101 to 0331\n",
      "<Response [200]>\n",
      "There were 120 mentions of LinkedIn in 2012 from 0401 to 0630\n",
      "<Response [200]>\n",
      "There were 66 mentions of LinkedIn in 2012 from 0701 to 0930\n",
      "<Response [200]>\n",
      "There were 50 mentions of LinkedIn in 2012 from 1001 to 1231\n",
      "<Response [200]>\n",
      "There were 60 mentions of LinkedIn in 2013 from 0101 to 0331\n",
      "<Response [200]>\n",
      "There were 73 mentions of LinkedIn in 2013 from 0401 to 0630\n",
      "<Response [200]>\n",
      "There were 96 mentions of LinkedIn in 2013 from 0701 to 0930\n",
      "<Response [200]>\n",
      "There were 64 mentions of LinkedIn in 2013 from 1001 to 1231\n",
      "<Response [200]>\n",
      "There were 126 mentions of LinkedIn in 2014 from 0101 to 0331\n",
      "<Response [200]>\n",
      "There were 131 mentions of LinkedIn in 2014 from 0401 to 0630\n",
      "<Response [200]>\n",
      "There were 91 mentions of LinkedIn in 2014 from 0701 to 0930\n",
      "<Response [200]>\n",
      "There were 100 mentions of LinkedIn in 2014 from 1001 to 1231\n",
      "<Response [200]>\n",
      "There were 87 mentions of LinkedIn in 2015 from 0101 to 0331\n",
      "<Response [200]>\n",
      "There were 97 mentions of LinkedIn in 2015 from 0401 to 0630\n",
      "<Response [200]>\n",
      "There were 90 mentions of LinkedIn in 2015 from 0701 to 0930\n",
      "<Response [200]>\n",
      "There were 87 mentions of LinkedIn in 2015 from 1001 to 1231\n"
     ]
    }
   ],
   "source": [
    "import numpy as np\n",
    "social_sites = [\"Twitter\", \"Facebook\", \"Instagram\", \"MySpace\", \"Tumblr\", \"Snapchat\", \"LinkedIn\"]\n",
    "social_df_q = pd.read_csv(\"social_hits.csv\", encoding='latin-1')\n",
    "for social in social_sites:\n",
    "    #start_date = 20000101  \n",
    "    #end_date = 20001231\n",
    "    start_date = 20050101  \n",
    "    end_date = 20051231\n",
    "    #end_date = 20050101\n",
    "    \n",
    " \n",
    "    array_q=[]\n",
    "\n",
    "    for year in range(2006, 2016):\n",
    "        quarters = [\n",
    "            { 'start': '{}0101'.format(year), 'end': '{}0331'.format(year) },\n",
    "            { 'start': '{}0401'.format(year), 'end': '{}0630'.format(year) },\n",
    "            { 'start': '{}0701'.format(year), 'end': '{}0930'.format(year) },\n",
    "            { 'start': '{}1001'.format(year), 'end': '{}1231'.format(year) }\n",
    "          ]\n",
    "            \n",
    "            #[\n",
    "            #    { 'start': '20160101', 'end': '20160331' },\n",
    "            #    { 'start': '20160401', 'end': '20160631'}\n",
    "            #]\n",
    "                #20050101 - 20050331\n",
    "            \n",
    "                #20050401 - 20050630\n",
    "                \n",
    "                #20050701 - 20050930\n",
    "                \n",
    "                #20051001 - 20051231\n",
    "                \n",
    "        q = 1\n",
    "            \n",
    "        for quarter in quarters:\n",
    "            start_date = quarter['start']\n",
    "            end_date = quarter['end']\n",
    "            quart = \"Q\" + str(q) + \" \" + str(year) \n",
    "            \n",
    "            q = q + 1\n",
    "            \n",
    "           \n",
    "            response = requests.get('https://api.nytimes.com/svc/search/v2/articlesearch.json?api-key=' + nyt_articles_api + '&q=' + social + '&begin_date=' +  str(start_date)   + '&end_date=' +  str(end_date)+ '&sort=oldest')\n",
    "            print(response)\n",
    "            social_data = response.json()  \n",
    "            social_hits = social_data['response']['meta']['hits']\n",
    "\n",
    "            start_str = str(start_date)\n",
    "            start_str = start_str[:4]\n",
    "\n",
    "            end_str = str(end_date)\n",
    "            end_str = end_str[:4]\n",
    "            \n",
    "            year = end_str\n",
    "            end_quarter = str(end_date)\n",
    "            end_quarter = end_quarter[4:]\n",
    "            \n",
    "          \n",
    "            start_quarter = str(start_date)\n",
    "            start_quarter = start_quarter[4:]\n",
    "        \n",
    "            social_df_q = social_df_q.append({\"quarter\": quart, \"year\": year, \"end_quarter\": end_quarter, \"start_quarter\":start_quarter, \"full_startdate\" : start_date, \"hits\": social_hits, \"social_site\": social}, ignore_index=True)\n",
    "        #array.append({\"year\": end_str, \"hits\": social_hits, \"social_site\": social})\n",
    "            print(\"There were\", social_hits, \"mentions of\", social, \"in\", end_str, \"from\", start_quarter, \"to\", end_quarter)\n",
    "        #print(array)\n",
    "    #social_df.append(array)\n",
    "social_df_q['full_startdate'] = pd.to_datetime(social_df_q['full_startdate'])\n",
    "social_df_q.to_csv(\"NYT_Social_hitsByQuarter\", sep=',')     \n",
    "\n",
    "  \n"
   ]
  },
  {
   "cell_type": "code",
   "execution_count": null,
   "metadata": {
    "collapsed": true
   },
   "outputs": [],
   "source": []
  },
  {
   "cell_type": "code",
   "execution_count": null,
   "metadata": {
    "collapsed": false
   },
   "outputs": [],
   "source": [
    "# ax = social_df.plot(kind='barh', x='Twitter', y='Index Week', alpha=0.5)"
   ]
  },
  {
   "cell_type": "code",
   "execution_count": null,
   "metadata": {
    "collapsed": false
   },
   "outputs": [],
   "source": [
    "#social_df.groupby('social_site')['hits'].hist(bins=50)"
   ]
  },
  {
   "cell_type": "code",
   "execution_count": null,
   "metadata": {
    "collapsed": false
   },
   "outputs": [],
   "source": [
    "social_df_q['full_startdate'] = pd.to_datetime(social_df_q['full_startdate'])"
   ]
  },
  {
   "cell_type": "code",
   "execution_count": null,
   "metadata": {
    "collapsed": false
   },
   "outputs": [],
   "source": [
    "social_df_q.info()"
   ]
  },
  {
   "cell_type": "code",
   "execution_count": null,
   "metadata": {
    "collapsed": false
   },
   "outputs": [],
   "source": [
    "social_df.info()"
   ]
  },
  {
   "cell_type": "code",
   "execution_count": null,
   "metadata": {
    "collapsed": false
   },
   "outputs": [],
   "source": [
    "social_df.head()"
   ]
  },
  {
   "cell_type": "code",
   "execution_count": null,
   "metadata": {
    "collapsed": false
   },
   "outputs": [],
   "source": [
    "social_df_q.head()"
   ]
  },
  {
   "cell_type": "code",
   "execution_count": null,
   "metadata": {
    "collapsed": false
   },
   "outputs": [],
   "source": [
    "social_df_q.info()"
   ]
  },
  {
   "cell_type": "code",
   "execution_count": null,
   "metadata": {
    "collapsed": false
   },
   "outputs": [],
   "source": [
    "# recent_social_df = social_df[social_df['year'] > 2005]"
   ]
  },
  {
   "cell_type": "code",
   "execution_count": 35,
   "metadata": {
    "collapsed": false
   },
   "outputs": [
    {
     "data": {
      "image/png": "[encoded data removed]",
      "text/plain": [
       "<matplotlib.figure.Figure at 0x11139a4e0>"
      ]
     },
     "metadata": {},
     "output_type": "display_data"
    }
   ],
   "source": [
    "fig, ax = plt.subplots(figsize=(20,10))\n",
    "for sitename, selection in social_df_q.groupby('social_site'):\n",
    "    ax.plot(selection['full_startdate'], selection['hits'],label=sitename)\n",
    "    \n",
    "ax.legend(loc=2)\n",
    "plt.grid()\n",
    "plt.savefig('social_over_timequarterlydata.pdf')"
   ]
  },
  {
   "cell_type": "code",
   "execution_count": null,
   "metadata": {
    "collapsed": true
   },
   "outputs": [],
   "source": [
    "['full_startdate']"
   ]
  },
  {
   "cell_type": "code",
   "execution_count": null,
   "metadata": {
    "collapsed": false
   },
   "outputs": [],
   "source": [
    "fig, ax = plt.subplots()\n",
    "for sitename, selection in social_df.groupby('social_site'):\n",
    "    ax.plot(selection['year'], selection['hits'],label=sitename)\n",
    "ax.legend()"
   ]
  },
  {
   "cell_type": "code",
   "execution_count": null,
   "metadata": {
    "collapsed": false
   },
   "outputs": [],
   "source": [
    "fig, ax = plt.subplots()\n",
    "for sitename, selection in social_df.groupby('social_site'):\n",
    "    ax.plot(selection['year'], selection['hits'],label=sitename)\n",
    "ax.legend(loc=2)\n",
    "plt.savefig('social_over_time.pdf')"
   ]
  },
  {
   "cell_type": "code",
   "execution_count": null,
   "metadata": {
    "collapsed": false
   },
   "outputs": [],
   "source": [
    "#s ocial_df.groupby('social_site')['hits'].plot(legend=True,x='year')"
   ]
  },
  {
   "cell_type": "code",
   "execution_count": null,
   "metadata": {
    "collapsed": true
   },
   "outputs": [],
   "source": []
  },
  {
   "cell_type": "code",
   "execution_count": null,
   "metadata": {
    "collapsed": false
   },
   "outputs": [],
   "source": [
    "#social_df.groupby('social_site')['hits'].plot(kind=\"bar\",y=\"year\", color = ['#624ea7', '#599ad3', '#f9a65a', '#9e66ab', 'purple'])\n",
    "# social_df.groupby('social_site')['hits'].plot()"
   ]
  },
  {
   "cell_type": "code",
   "execution_count": null,
   "metadata": {
    "collapsed": true
   },
   "outputs": [],
   "source": [
    "#data = response.json()"
   ]
  },
  {
   "cell_type": "code",
   "execution_count": null,
   "metadata": {
    "collapsed": false
   },
   "outputs": [],
   "source": [
    "social_df.describe()\n",
    "\n"
   ]
  },
  {
   "cell_type": "code",
   "execution_count": null,
   "metadata": {
    "collapsed": false
   },
   "outputs": [],
   "source": [
    "#data.keys()"
   ]
  },
  {
   "cell_type": "code",
   "execution_count": null,
   "metadata": {
    "collapsed": false
   },
   "outputs": [],
   "source": [
    "#data['response']"
   ]
  },
  {
   "cell_type": "code",
   "execution_count": 21,
   "metadata": {
    "collapsed": false
   },
   "outputs": [],
   "source": [
    "import pandas as pd\n",
    "import matplotlib.pyplot as plt\n",
    "%matplotlib inline"
   ]
  },
  {
   "cell_type": "code",
   "execution_count": 22,
   "metadata": {
    "collapsed": false
   },
   "outputs": [],
   "source": [
    "#df = pd.read_csv(\"cleaned_socialmediapopularity.csv\", encoding='latin-1')"
   ]
  },
  {
   "cell_type": "code",
   "execution_count": 23,
   "metadata": {
    "collapsed": false
   },
   "outputs": [],
   "source": [
    "#df.head"
   ]
  },
  {
   "cell_type": "code",
   "execution_count": 24,
   "metadata": {
    "collapsed": false
   },
   "outputs": [],
   "source": [
    "#df.describe()"
   ]
  },
  {
   "cell_type": "code",
   "execution_count": 25,
   "metadata": {
    "collapsed": false
   },
   "outputs": [],
   "source": [
    "# df"
   ]
  },
  {
   "cell_type": "code",
   "execution_count": 26,
   "metadata": {
    "collapsed": false
   },
   "outputs": [],
   "source": [
    "#df.columns"
   ]
  },
  {
   "cell_type": "code",
   "execution_count": 27,
   "metadata": {
    "collapsed": true
   },
   "outputs": [],
   "source": [
    "import datetime"
   ]
  },
  {
   "cell_type": "code",
   "execution_count": null,
   "metadata": {
    "collapsed": false
   },
   "outputs": [],
   "source": [
    "# df['Week'] = df['Week'].apply(dateutil.parser.parse)"
   ]
  },
  {
   "cell_type": "code",
   "execution_count": null,
   "metadata": {
    "collapsed": false
   },
   "outputs": [],
   "source": []
  },
  {
   "cell_type": "code",
   "execution_count": null,
   "metadata": {
    "collapsed": false
   },
   "outputs": [],
   "source": [
    "df.info()"
   ]
  },
  {
   "cell_type": "code",
   "execution_count": null,
   "metadata": {
    "collapsed": false
   },
   "outputs": [],
   "source": [
    "#df=df.astype(float)"
   ]
  },
  {
   "cell_type": "code",
   "execution_count": null,
   "metadata": {
    "collapsed": true
   },
   "outputs": [],
   "source": [
    "#df.index = df['Week']"
   ]
  },
  {
   "cell_type": "code",
   "execution_count": null,
   "metadata": {
    "collapsed": false
   },
   "outputs": [],
   "source": [
    "#df.resample('M').count()"
   ]
  },
  {
   "cell_type": "code",
   "execution_count": null,
   "metadata": {
    "collapsed": false
   },
   "outputs": [],
   "source": [
    "#ax = df.plot(kind='barh', x='Twitter', y='Index Week', alpha=0.5)"
   ]
  },
  {
   "cell_type": "code",
   "execution_count": null,
   "metadata": {
    "collapsed": false
   },
   "outputs": [],
   "source": [
    "ax = df.plot(kind='scatter', x='Twitter', y='Index Week', alpha=0.5)\n",
    "df.plot(kind='scatter', x='Facebook', y='Index Week', alpha=0.5, ax=ax)\n",
    "df.plot(kind='scatter', x='Snapchat', y='Index Week', alpha=0.5, ax=ax)\n",
    "df.plot(kind='scatter', x='Instagram', y='Index Week', alpha=0.5, ax=ax)\n",
    "df.plot(kind='scatter', x='myspace', y='Index Week', alpha=0.5, ax=ax)\n"
   ]
  },
  {
   "cell_type": "code",
   "execution_count": null,
   "metadata": {
    "collapsed": true
   },
   "outputs": [],
   "source": [
    "import datetime"
   ]
  },
  {
   "cell_type": "code",
   "execution_count": null,
   "metadata": {
    "collapsed": false
   },
   "outputs": [],
   "source": [
    "# Asking for TWO subplots, ax1 and ax2.\n",
    "# Be sure to put them in parenthesis\n",
    "fig, ((ax1, ax2), (ax3, ax4), (ax5, ax6)) = plt.subplots(nrows=3, ncols=2,  figsize=(9,9),  sharex=True, sharey=True)\n",
    "\n",
    "# Use ax1 to plot Bhutan\n",
    "\n",
    "social_df[social_df['social_site'] == 'Twitter'].plot(x='year', y='hits', legend=False, ax=ax1)\n",
    "ax1.set_title(\"Twitter\")\n",
    "\n",
    "\n",
    "\n",
    "social_df[social_df['social_site'] == 'Facebook'].plot(x='year', y='hits', legend=False, ax=ax2)\n",
    "ax2.set_title(\"Facebook\")\n",
    "\n",
    "\n",
    "social_df[social_df['social_site'] == 'Instagram'].plot(x='year', y='hits', legend=False, ax=ax3)\n",
    "ax3.set_title(\"Instagram\")\n",
    "\n",
    "\n",
    "social_df[social_df['social_site'] == 'MySpace'].plot(x='year', y='hits', legend=False, ax=ax4)\n",
    "ax4.set_title(\"MySpace\")\n",
    "\n",
    "social_df[social_df['social_site'] == 'Snapchat'].plot(x='year', y='hits', legend=False, ax=ax5)\n",
    "ax5.set_title(\"SnapChat\")\n",
    "\n",
    "\n",
    "social_df[social_df['social_site'] == 'Tumblr'].plot(x='year', y='hits', legend=False, ax=ax6)\n",
    "ax6.set_title(\"Tumblr\")\n",
    "plt.savefig('social_over_time_multiplegraphs.pdf')"
   ]
  },
  {
   "cell_type": "code",
   "execution_count": 8,
   "metadata": {
    "collapsed": true
   },
   "outputs": [],
   "source": [
    "from dateutil.parser import parse"
   ]
  },
  {
   "cell_type": "code",
   "execution_count": 12,
   "metadata": {
    "collapsed": false
   },
   "outputs": [],
   "source": [
    "social_dfcsv = pd.read_csv(\"NYT_Social_hitsByQuarter_Safe\", encoding='latin-1')"
   ]
  },
  {
   "cell_type": "code",
   "execution_count": 13,
   "metadata": {
    "collapsed": false
   },
   "outputs": [
    {
     "data": {
      "text/html": [
       "<div>\n",
       "<table border=\"1\" class=\"dataframe\">\n",
       "  <thead>\n",
       "    <tr style=\"text-align: right;\">\n",
       "      <th></th>\n",
       "      <th>Unnamed: 0</th>\n",
       "      <th>hits</th>\n",
       "      <th>social_site</th>\n",
       "      <th>year</th>\n",
       "      <th>end_quarter</th>\n",
       "      <th>full_startdate</th>\n",
       "      <th>quarter</th>\n",
       "      <th>start_quarter</th>\n",
       "    </tr>\n",
       "  </thead>\n",
       "  <tbody>\n",
       "    <tr>\n",
       "      <th>0</th>\n",
       "      <td>0</td>\n",
       "      <td>1.0</td>\n",
       "      <td>Twitter</td>\n",
       "      <td>2006</td>\n",
       "      <td>331</td>\n",
       "      <td>20060101</td>\n",
       "      <td>Q1 2006</td>\n",
       "      <td>101</td>\n",
       "    </tr>\n",
       "    <tr>\n",
       "      <th>1</th>\n",
       "      <td>1</td>\n",
       "      <td>1.0</td>\n",
       "      <td>Twitter</td>\n",
       "      <td>2006</td>\n",
       "      <td>630</td>\n",
       "      <td>20060401</td>\n",
       "      <td>Q2 2006</td>\n",
       "      <td>401</td>\n",
       "    </tr>\n",
       "    <tr>\n",
       "      <th>2</th>\n",
       "      <td>2</td>\n",
       "      <td>1.0</td>\n",
       "      <td>Twitter</td>\n",
       "      <td>2006</td>\n",
       "      <td>930</td>\n",
       "      <td>20060701</td>\n",
       "      <td>Q3 2006</td>\n",
       "      <td>701</td>\n",
       "    </tr>\n",
       "    <tr>\n",
       "      <th>3</th>\n",
       "      <td>3</td>\n",
       "      <td>3.0</td>\n",
       "      <td>Twitter</td>\n",
       "      <td>2006</td>\n",
       "      <td>1231</td>\n",
       "      <td>20061001</td>\n",
       "      <td>Q4 2006</td>\n",
       "      <td>1001</td>\n",
       "    </tr>\n",
       "    <tr>\n",
       "      <th>4</th>\n",
       "      <td>4</td>\n",
       "      <td>0.0</td>\n",
       "      <td>Twitter</td>\n",
       "      <td>2007</td>\n",
       "      <td>331</td>\n",
       "      <td>20070101</td>\n",
       "      <td>Q1 2007</td>\n",
       "      <td>101</td>\n",
       "    </tr>\n",
       "  </tbody>\n",
       "</table>\n",
       "</div>"
      ],
      "text/plain": [
       "   Unnamed: 0  hits social_site  year  end_quarter  full_startdate  quarter  \\\n",
       "0           0   1.0     Twitter  2006          331        20060101  Q1 2006   \n",
       "1           1   1.0     Twitter  2006          630        20060401  Q2 2006   \n",
       "2           2   1.0     Twitter  2006          930        20060701  Q3 2006   \n",
       "3           3   3.0     Twitter  2006         1231        20061001  Q4 2006   \n",
       "4           4   0.0     Twitter  2007          331        20070101  Q1 2007   \n",
       "\n",
       "   start_quarter  \n",
       "0            101  \n",
       "1            401  \n",
       "2            701  \n",
       "3           1001  \n",
       "4            101  "
      ]
     },
     "execution_count": 13,
     "metadata": {},
     "output_type": "execute_result"
    }
   ],
   "source": [
    "social_dfcsv.head()"
   ]
  },
  {
   "cell_type": "code",
   "execution_count": 14,
   "metadata": {
    "collapsed": true
   },
   "outputs": [],
   "source": [
    "social_dfcsv['full_startdate'] = pd.to_datetime(social_dfcsv['full_startdate'])"
   ]
  },
  {
   "cell_type": "code",
   "execution_count": 15,
   "metadata": {
    "collapsed": false
   },
   "outputs": [],
   "source": [
    "social_dfcsv['full_startdate'] = social_dfcsv['full_startdate'].apply(str)"
   ]
  },
  {
   "cell_type": "code",
   "execution_count": 16,
   "metadata": {
    "collapsed": true
   },
   "outputs": [],
   "source": [
    "social_dfcsv['full_startdate'] = social_dfcsv['full_startdate'].apply(parse)"
   ]
  },
  {
   "cell_type": "code",
   "execution_count": 29,
   "metadata": {
    "collapsed": false
   },
   "outputs": [
    {
     "data": {
      "text/plain": [
       "pandas.tslib.Timestamp"
      ]
     },
     "execution_count": 29,
     "metadata": {},
     "output_type": "execute_result"
    }
   ],
   "source": [
    "type(social_dfcsv['full_startdate'][0])"
   ]
  },
  {
   "cell_type": "code",
   "execution_count": 19,
   "metadata": {
    "collapsed": false
   },
   "outputs": [],
   "source": [
    "# [parse(item) for item in social_dfcsv[\"year\"]]"
   ]
  },
  {
   "cell_type": "code",
   "execution_count": null,
   "metadata": {
    "collapsed": true
   },
   "outputs": [],
   "source": [
    "import numpy"
   ]
  },
  {
   "cell_type": "code",
   "execution_count": 28,
   "metadata": {
    "collapsed": false
   },
   "outputs": [
    {
     "data": {
      "image/png": "[encoded data removed]",
      "text/plain": [
       "<matplotlib.figure.Figure at 0x1103994a8>"
      ]
     },
     "metadata": {},
     "output_type": "display_data"
    }
   ],
   "source": [
    "fig, ax = plt.subplots(figsize=(20,10))\n",
    "for sitename, selection in social_dfcsv.groupby('social_site'):\n",
    "    ax.plot(selection['full_startdate'], selection['hits'],label=sitename)\n",
    "    \n",
    "ax.legend(loc=2)\n",
    "plt.savefig(\"socialmediaovertimewithquarters\")"
   ]
  },
  {
   "cell_type": "code",
   "execution_count": null,
   "metadata": {
    "collapsed": true
   },
   "outputs": [],
   "source": []
  }
 ],
 "metadata": {
  "kernelspec": {
   "display_name": "Python 3",
   "language": "python",
   "name": "python3"
  }
 },
 "nbformat": 4,
 "nbformat_minor": 0
}
